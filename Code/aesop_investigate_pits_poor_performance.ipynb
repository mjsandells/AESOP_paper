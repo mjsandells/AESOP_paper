{
 "cells": [
  {
   "cell_type": "markdown",
   "metadata": {},
   "source": [
    "# Investigates A03C1, A06S1, Met Station pits poor performance"
   ]
  },
  {
   "cell_type": "code",
   "execution_count": null,
   "metadata": {},
   "outputs": [],
   "source": [
    "import pandas as pd\n",
    "import numpy as np\n",
    "import scipy.io as sio\n",
    "from copy import deepcopy"
   ]
  },
  {
   "cell_type": "code",
   "execution_count": null,
   "metadata": {},
   "outputs": [],
   "source": [
    "from smrt_aesop_setup import model, trenchdata, return_snowpack, sensor_89"
   ]
  },
  {
   "cell_type": "code",
   "execution_count": null,
   "metadata": {},
   "outputs": [],
   "source": [
    "from run_smrt_with_realistic_atmosphere import get_atmosphere, tb_results"
   ]
  },
  {
   "cell_type": "markdown",
   "metadata": {},
   "source": [
    "# A03C1\n",
    "\n",
    "### Investigate low surface density"
   ]
  },
  {
   "cell_type": "code",
   "execution_count": null,
   "metadata": {},
   "outputs": [],
   "source": [
    "profile = eval('trenchdata.A03C1')\n",
    "# Get atmosphere\n",
    "atmosphere = get_atmosphere('C087', 'A03', single_frequency=True)\n",
    "snowpack = return_snowpack(profile, with_ice_lens=True, dh_debye=1.2,\n",
    "                           flight_temperature_correction='C087',\n",
    "                           atmosphere=atmosphere)"
   ]
  },
  {
   "cell_type": "code",
   "execution_count": null,
   "metadata": {},
   "outputs": [],
   "source": [
    "results = model.run(sensor_89, snowpack)"
   ]
  },
  {
   "cell_type": "code",
   "execution_count": null,
   "metadata": {},
   "outputs": [],
   "source": [
    "tb_results(results.TbV(), single_frequency=89e9)"
   ]
  },
  {
   "cell_type": "code",
   "execution_count": null,
   "metadata": {},
   "outputs": [],
   "source": [
    "alt_profile = deepcopy(profile)\n",
    "alt_profile.mean_layer_densityA.mean_layer_densityA[0] = 104\n",
    "# Replace surface density with default value\n",
    "alt_snowpack = return_snowpack(alt_profile, with_ice_lens=True, dh_debye=1.2,\n",
    "                           flight_temperature_correction='C087',\n",
    "                           atmosphere=atmosphere)\n",
    "alt_results = model.run(sensor_89, alt_snowpack)"
   ]
  },
  {
   "cell_type": "code",
   "execution_count": null,
   "metadata": {},
   "outputs": [],
   "source": [
    "alt_snowpack.layers[0].density"
   ]
  },
  {
   "cell_type": "code",
   "execution_count": null,
   "metadata": {},
   "outputs": [],
   "source": [
    "tb_results(alt_results.TbV(), single_frequency=89e9)"
   ]
  },
  {
   "cell_type": "markdown",
   "metadata": {},
   "source": [
    "### Investigate high SS SSA"
   ]
  },
  {
   "cell_type": "code",
   "execution_count": null,
   "metadata": {},
   "outputs": [],
   "source": [
    "profile_ss_ssa = deepcopy(profile)\n",
    "# Replace SS with nan so uses default value\n",
    "profile_ss_ssa.mean_layer_SSA1.mean_layer_SSA1[0] = np.nan\n",
    "# Create snowpack\n",
    "snowpack_ss_nan = return_snowpack(profile_ss_ssa, with_ice_lens=True, dh_debye=1.2,\n",
    "                           flight_temperature_correction='C087',\n",
    "                           atmosphere=atmosphere)"
   ]
  },
  {
   "cell_type": "code",
   "execution_count": null,
   "metadata": {},
   "outputs": [],
   "source": [
    "# Run model\n",
    "tb_results(model.run(sensor_89, snowpack_ss_nan).TbV(), single_frequency=89e9)"
   ]
  },
  {
   "cell_type": "markdown",
   "metadata": {},
   "source": [
    "# A06S1\n",
    "\n",
    "### Due to low WS SSA?"
   ]
  },
  {
   "cell_type": "code",
   "execution_count": null,
   "metadata": {},
   "outputs": [],
   "source": [
    "# First create snowpack with observed WS SSA\n",
    "profile = eval('trenchdata.A06S1')\n",
    "atmosphere_A06 = get_atmosphere('C087', 'A06', single_frequency=True)\n",
    "\n",
    "snowpack_A06S1 = return_snowpack(profile, with_ice_lens=True, dh_debye=1.2,\n",
    "                           flight_temperature_correction='C087',\n",
    "                           atmosphere=atmosphere_A06)\n",
    "\n",
    "# Modify data to assume no observations of WS SSA made\n",
    "# Therefore default value used instead\n",
    "profile_with_nan = deepcopy(profile)\n",
    "profile_with_nan.mean_layer_SSA1.mean_layer_SSA1[1] = np.nan\n",
    "# Create new snowpack\n",
    "snowpack_nan_WS_SSA = return_snowpack(profile_with_nan, with_ice_lens=True, dh_debye=1.2,\n",
    "                           flight_temperature_correction='C087',\n",
    "                           atmosphere=atmosphere_A06)"
   ]
  },
  {
   "cell_type": "code",
   "execution_count": null,
   "metadata": {},
   "outputs": [],
   "source": [
    "# Run model on snowpacks\n",
    "result = model.run(sensor_89, snowpack_A06S1)\n",
    "result_with_nan = model.run(sensor_89, snowpack_nan_WS_SSA)"
   ]
  },
  {
   "cell_type": "code",
   "execution_count": null,
   "metadata": {},
   "outputs": [],
   "source": [
    "print(tb_results(result.TbV(), single_frequency=89e9), tb_results(result_with_nan.TbV(), single_frequency=89e9))"
   ]
  },
  {
   "cell_type": "code",
   "execution_count": null,
   "metadata": {},
   "outputs": [],
   "source": [
    "# What if all SSA were nan?\n",
    "profile_all_ssa_nan = deepcopy(profile)\n",
    "profile_all_ssa_nan.mean_layer_SSA1.mean_layer_SSA1 = [np.nan]*3\n",
    "snowpack_all_nan = return_snowpack(profile_all_ssa_nan, with_ice_lens=True, dh_debye=1.2,\n",
    "                           flight_temperature_correction='C087',\n",
    "                           atmosphere=atmosphere_A06)\n",
    "tb_results(model.run(sensor_89, snowpack_all_nan).TbV(), single_frequency=89e9)\n"
   ]
  },
  {
   "cell_type": "markdown",
   "metadata": {},
   "source": [
    "# Met Station\n",
    "\n",
    "### NB this was taken after the storm, so could look different to airborne data\n",
    "\n",
    "### Met Station has high SSA in DH - what happens if default value is used?"
   ]
  },
  {
   "cell_type": "code",
   "execution_count": null,
   "metadata": {},
   "outputs": [],
   "source": [
    "profile = eval('trenchdata.MetS')\n",
    "atmosphere_A04 = get_atmosphere('C087', 'A04', single_frequency=True)\n",
    "\n",
    "snowpack = return_snowpack(profile, with_ice_lens=True, dh_debye=1.2,\n",
    "                           flight_temperature_correction='C087',\n",
    "                           atmosphere=atmosphere_A04)\n",
    "\n",
    "# SNOWPACK DH nan\n",
    "# Therefore default value used instead\n",
    "profile_with_dh_nan = deepcopy(profile)\n",
    "profile_with_dh_nan.mean_layer_SSA1.mean_layer_SSA1[2] = np.nan\n",
    "# Create new snowpack\n",
    "snowpack_nan_dh_SSA = return_snowpack(profile_with_dh_nan, with_ice_lens=True, dh_debye=1.2,\n",
    "                           flight_temperature_correction='C087',\n",
    "                           atmosphere=atmosphere_A04)\n",
    "\n",
    "# Snowpack WS nan\n",
    "# Therefore default value used instead\n",
    "profile_with_ws_nan = deepcopy(profile)\n",
    "profile_with_ws_nan.mean_layer_SSA1.mean_layer_SSA1[1] = np.nan\n",
    "# Create new snowpack\n",
    "snowpack_nan_ws_SSA = return_snowpack(profile_with_ws_nan, with_ice_lens=True, dh_debye=1.2,\n",
    "                           flight_temperature_correction='C087',\n",
    "                           atmosphere=atmosphere_A04)\n",
    "\n",
    "# What if all SSA were nan?\n",
    "profile_all_ssa_nan = deepcopy(profile)\n",
    "profile_all_ssa_nan.mean_layer_SSA1.mean_layer_SSA1 = [np.nan]*3\n",
    "snowpack_all_nan = return_snowpack(profile_all_ssa_nan, with_ice_lens=True, dh_debye=1.2,\n",
    "                           flight_temperature_correction='C087',\n",
    "                           atmosphere=atmosphere_A04)"
   ]
  },
  {
   "cell_type": "code",
   "execution_count": null,
   "metadata": {},
   "outputs": [],
   "source": [
    "# Run model on snowpacks\n",
    "result = model.run(sensor_89, snowpack)\n",
    "result_with_dh_nan = model.run(sensor_89, snowpack_nan_dh_SSA)\n",
    "result_with_ws_nan = model.run(sensor_89, snowpack_nan_ws_SSA)\n",
    "result_all_nan = model.run(sensor_89, snowpack_all_nan)"
   ]
  },
  {
   "cell_type": "code",
   "execution_count": null,
   "metadata": {},
   "outputs": [],
   "source": [
    "print(tb_results(result.TbV(), single_frequency=89e9))\n",
    "print(tb_results(result_with_dh_nan.TbV(), single_frequency=89e9))\n",
    "print(tb_results(result_with_ws_nan.TbV(), single_frequency=89e9))\n",
    "print(tb_results(result_all_nan.TbV(), single_frequency=89e9))"
   ]
  },
  {
   "cell_type": "code",
   "execution_count": null,
   "metadata": {},
   "outputs": [],
   "source": []
  }
 ],
 "metadata": {
  "kernelspec": {
   "display_name": "aesop",
   "language": "python",
   "name": "aesop"
  },
  "language_info": {
   "codemirror_mode": {
    "name": "ipython",
    "version": 3
   },
   "file_extension": ".py",
   "mimetype": "text/x-python",
   "name": "python",
   "nbconvert_exporter": "python",
   "pygments_lexer": "ipython3",
   "version": "3.8.10"
  }
 },
 "nbformat": 4,
 "nbformat_minor": 4
}

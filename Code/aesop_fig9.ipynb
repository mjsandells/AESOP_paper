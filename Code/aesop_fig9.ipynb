{
 "cells": [
  {
   "cell_type": "markdown",
   "metadata": {},
   "source": [
    "## Look at Met Data\n",
    "\n",
    "Data downloaded from https://climate.weather.gc.ca/historical_data/search_historic_data_e.html for station Trail Valley (WMO ID 71683)"
   ]
  },
  {
   "cell_type": "code",
   "execution_count": null,
   "metadata": {},
   "outputs": [],
   "source": [
    "import pandas as pd\n",
    "import matplotlib.pyplot as plt"
   ]
  },
  {
   "cell_type": "code",
   "execution_count": null,
   "metadata": {},
   "outputs": [],
   "source": [
    "met_eccc = pd.read_csv('../Data/en_climate_hourly_NT_220N005_03-2018_P1H.csv')"
   ]
  },
  {
   "cell_type": "code",
   "execution_count": null,
   "metadata": {},
   "outputs": [],
   "source": [
    "# get flight times\n",
    "fl1 = 16 + 14/24 #2pm\n",
    "fl2 = 20 + 14/24 #2pm\n",
    "fl3 = 22 + 14/24 #2pm"
   ]
  },
  {
   "cell_type": "code",
   "execution_count": null,
   "metadata": {},
   "outputs": [],
   "source": [
    "from datetime import datetime\n",
    "f1 = datetime.strptime(met_eccc.iloc[374]['Date/Time (LST)'], '%d/%m/%Y %H:%M')\n",
    "f2 = datetime.strptime(met_eccc.iloc[470]['Date/Time (LST)'], '%d/%m/%Y %H:%M')\n",
    "f3 = datetime.strptime(met_eccc.iloc[518]['Date/Time (LST)'], '%d/%m/%Y %H:%M')\n"
   ]
  },
  {
   "cell_type": "code",
   "execution_count": null,
   "metadata": {},
   "outputs": [],
   "source": [
    "plt.close()\n",
    "f, (ax1, ax2, ax3) = plt.subplots(3, 1, sharex=True)\n",
    "time = []\n",
    "\n",
    "for t in met_eccc[336:528]['Date/Time (LST)']:\n",
    "    time.append(datetime.strptime(t, '%d/%m/%Y %H:%M'))\n",
    "\n",
    "# Data\n",
    "ax1.plot(time, met_eccc[336:528]['Temp (°C)'], 'k')\n",
    "ax2.plot(time, met_eccc[336:528]['Precip. Amount (mm)'], 'k')\n",
    "ax3.plot(time, met_eccc[336:528]['Wind Spd (km/h)'], 'k')\n",
    "\n",
    "# Indicate flight times\n",
    "for ax in [ax1, ax2, ax3]:\n",
    "    ax.plot([f1]*2, [-30, 45], 'k--', alpha=0.4)\n",
    "    ax.plot([f2]*2, [-30, 45], 'k--', alpha=0.4)\n",
    "    ax.plot([f3]*2, [-30, 45], 'k--', alpha=0.4)\n",
    "\n",
    "    # Constrain axes\n",
    "ax1.set_ylim(-30, 0)\n",
    "ax2.set_ylim(0, 0.35)\n",
    "ax3.set_ylim(0, 45)\n",
    "\n",
    "# Plot labels\n",
    "ax1.set_ylabel('T$_{air}$ ($^o$C)')\n",
    "ax2.set_ylabel('Precip (mm)')\n",
    "ax3.set_ylabel('Wind (km hr$^{-1}$)')\n",
    "ax3.set_xlabel('Date')\n",
    "\n",
    "plt.xticks(rotation=90)\n",
    "f.savefig('MetData_fromECCC.png', bbox_inches='tight')"
   ]
  },
  {
   "cell_type": "code",
   "execution_count": null,
   "metadata": {},
   "outputs": [],
   "source": [
    "# Surface temperature at time of flights\n",
    "print ('C087', met_eccc[374:375]['Temp (°C)'])\n",
    "print ('C090', met_eccc[470:471]['Temp (°C)'])\n",
    "print ('C092', met_eccc[518:519]['Temp (°C)'])"
   ]
  },
  {
   "cell_type": "code",
   "execution_count": null,
   "metadata": {},
   "outputs": [],
   "source": []
  }
 ],
 "metadata": {
  "kernelspec": {
   "display_name": "aesop",
   "language": "python",
   "name": "aesop"
  },
  "language_info": {
   "codemirror_mode": {
    "name": "ipython",
    "version": 3
   },
   "file_extension": ".py",
   "mimetype": "text/x-python",
   "name": "python",
   "nbconvert_exporter": "python",
   "pygments_lexer": "ipython3",
   "version": "3.8.10"
  }
 },
 "nbformat": 4,
 "nbformat_minor": 4
}

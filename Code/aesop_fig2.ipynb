{
 "cells": [
  {
   "cell_type": "markdown",
   "metadata": {},
   "source": [
    "## This notebook plots snowpit stratigraphy"
   ]
  },
  {
   "cell_type": "code",
   "execution_count": null,
   "metadata": {
    "tags": []
   },
   "outputs": [],
   "source": [
    "import numpy as np\n",
    "%matplotlib widget\n",
    "import matplotlib.pyplot as plt\n",
    "import xarray as xr\n",
    "import pandas as pd\n",
    "import glob\n",
    "from matplotlib.lines import Line2D\n",
    "from datetime import datetime, timedelta\n",
    "from scipy.stats import linregress\n",
    "import scipy.io as sio\n",
    "from copy import deepcopy\n",
    "from aesop import relabel_pits"
   ]
  },
  {
   "cell_type": "code",
   "execution_count": null,
   "metadata": {
    "tags": []
   },
   "outputs": [],
   "source": [
    "matfile = sio.loadmat('../Data/ground_obs/TVC2018_trenches.mat',struct_as_record=False, squeeze_me=True)\n",
    "trenchdata = matfile['TVC']"
   ]
  },
  {
   "cell_type": "code",
   "execution_count": null,
   "metadata": {
    "tags": []
   },
   "outputs": [],
   "source": [
    "# Make a list of profiles i.e. separate measurement locations\n",
    "profile_list = dir(trenchdata)[0:36] # don't need other attributes of data, just profile names\n",
    "# Profile A03E has thickest ice lens: 1cm but no WS layer\n",
    "# Remove lake ice snowpits\n",
    "profile_list = [s for s in profile_list if 'A1' not in s]"
   ]
  },
  {
   "cell_type": "code",
   "execution_count": null,
   "metadata": {
    "tags": []
   },
   "outputs": [],
   "source": [
    "# Re-order so Met Station is grouped with other A04 plots\n",
    "profile_list = profile_list[:12] + ['MetS'] + profile_list[12:-1]"
   ]
  },
  {
   "cell_type": "code",
   "execution_count": null,
   "metadata": {
    "tags": []
   },
   "outputs": [],
   "source": [
    "# Relabel pits - reviewer suggestion\n",
    "new_profile_list = relabel_pits(profile_list)"
   ]
  },
  {
   "cell_type": "code",
   "execution_count": null,
   "metadata": {},
   "outputs": [],
   "source": [
    "# Extract layer thickness to make stratigraphy profile\n",
    "layer_thickness = []\n",
    "ice_loc = []\n",
    "for p in profile_list:\n",
    "    profile = eval('trenchdata' + '.' + p)\n",
    "    layer_thickness.append(profile.layer_thickness.layer_thickness) # still in cm\n",
    "    ice_loc.append(profile.ice_lens.ice_lens_height_top)\n",
    "    \n",
    "\n",
    "layer_thickness = np.asarray(layer_thickness)\n",
    "\n",
    "# Deal with problematic / null ice lenses\n",
    "ice_loc[7] = 19 # A04C1\n",
    "ice_loc[17] = 39 # A05W\n",
    "ice_loc[23] = np.nan # There is no ice lens recorded for A08C\n",
    "ice_loc = np.asarray(ice_loc)"
   ]
  },
  {
   "cell_type": "code",
   "execution_count": null,
   "metadata": {},
   "outputs": [],
   "source": [
    "# Stacked bar chart of layer thicknesses\n",
    "width=0.7\n",
    "ind = np.arange(len(new_profile_list))\n",
    "\n",
    "fig = plt.figure()\n",
    "ax = fig.gca()\n",
    "\n",
    "p1 = ax.bar(ind, layer_thickness[:,2], width)\n",
    "p2 = ax.bar(ind, layer_thickness[:,1], width, bottom=layer_thickness[:,2])\n",
    "p3 = ax.bar(ind, layer_thickness[:,0], width, color='grey',\n",
    "             bottom=np.nansum(np.dstack((layer_thickness[:,1],layer_thickness[:,2])),2).flatten())\n",
    "p4 = ax.plot(ind, ice_loc, 'k.')\n",
    "\n",
    "plt.ylabel('Height (cm)')\n",
    "plt.xticks(ind, new_profile_list, rotation=90)\n",
    "plt.legend((p1[0], p2[0], p3[0], p4[0]), ('DH', 'WS', 'SS', 'ice lens'), loc='upper right')\n",
    "\n",
    "plt.tight_layout()\n",
    "plt.show()\n"
   ]
  },
  {
   "cell_type": "code",
   "execution_count": null,
   "metadata": {},
   "outputs": [],
   "source": []
  }
 ],
 "metadata": {
  "kernelspec": {
   "display_name": "Python 3 (ipykernel)",
   "language": "python",
   "name": "python3"
  },
  "language_info": {
   "codemirror_mode": {
    "name": "ipython",
    "version": 3
   },
   "file_extension": ".py",
   "mimetype": "text/x-python",
   "name": "python",
   "nbconvert_exporter": "python",
   "pygments_lexer": "ipython3",
   "version": "3.11.9"
  }
 },
 "nbformat": 4,
 "nbformat_minor": 4
}

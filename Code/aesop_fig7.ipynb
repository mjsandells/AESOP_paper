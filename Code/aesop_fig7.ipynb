{
 "cells": [
  {
   "cell_type": "markdown",
   "metadata": {},
   "source": [
    "### **Fig 7: observations and SMRT simulations per pit**"
   ]
  },
  {
   "cell_type": "code",
   "execution_count": null,
   "metadata": {},
   "outputs": [],
   "source": [
    "import pandas as pd\n",
    "import xarray as xr\n",
    "import numpy as np\n",
    "%matplotlib widget\n",
    "import matplotlib.pyplot as plt\n",
    "import matplotlib.patches as mpatches\n",
    "from matplotlib.ticker import AutoMinorLocator"
   ]
  },
  {
   "cell_type": "code",
   "execution_count": null,
   "metadata": {},
   "outputs": [],
   "source": [
    "%load_ext autoreload\n",
    "%aimport aesop\n",
    "%aimport run_smrt_with_realistic_atmosphere\n",
    "%autoreload 1"
   ]
  },
  {
   "cell_type": "markdown",
   "metadata": {},
   "source": [
    "Load SMRT results:"
   ]
  },
  {
   "cell_type": "code",
   "execution_count": null,
   "metadata": {},
   "outputs": [],
   "source": [
    "smrt_c087 = xr.open_dataset('../Other/smrt_results_atmos/smrt_atmos_tb_C087.nc')\n",
    "smrt_c090 = xr.open_dataset('../Other/smrt_results_atmos/smrt_atmos_tb_C090.nc')"
   ]
  },
  {
   "cell_type": "markdown",
   "metadata": {},
   "source": [
    "Get 'pit order' to ensure all datasets are plotted for same pits:"
   ]
  },
  {
   "cell_type": "code",
   "execution_count": null,
   "metadata": {},
   "outputs": [],
   "source": [
    "pit_order = smrt_c090.snowpack.values\n",
    "# Group MetS with A04\n",
    "pit_order = np.insert(pit_order, 12, 'MetS')\n",
    "pit_order = pit_order[:-1]"
   ]
  },
  {
   "cell_type": "markdown",
   "metadata": {},
   "source": [
    "Load observations:"
   ]
  },
  {
   "cell_type": "code",
   "execution_count": null,
   "metadata": {},
   "outputs": [],
   "source": [
    "obs_c087 = aesop.get_obs_per_aoi('C087')\n",
    "obs_c090 = aesop.get_obs_per_aoi('C090')"
   ]
  },
  {
   "cell_type": "markdown",
   "metadata": {},
   "source": [
    "Load pits with topography and re-order index to match smrt results:"
   ]
  },
  {
   "cell_type": "code",
   "execution_count": null,
   "metadata": {},
   "outputs": [],
   "source": [
    "pits = aesop.get_pit_topography()\n",
    "pits = pits.reindex(pit_order)"
   ]
  },
  {
   "cell_type": "markdown",
   "metadata": {},
   "source": [
    "Load ground based observations:"
   ]
  },
  {
   "cell_type": "code",
   "execution_count": null,
   "metadata": {},
   "outputs": [],
   "source": [
    "sbr = pd.read_csv('../Data/ground_obs/more89forMel.csv')\n",
    "tb89v0 = run_smrt_with_realistic_atmosphere.ground_based_data_corrected(sbr, '89V0', pits)"
   ]
  },
  {
   "cell_type": "markdown",
   "metadata": {},
   "source": [
    "### Plot ground and airborne observations and smrt results:"
   ]
  },
  {
   "cell_type": "code",
   "execution_count": null,
   "metadata": {},
   "outputs": [],
   "source": [
    "def plot_results(smrt, obs, channel, flight, ground=False):\n",
    "    fig = plt.figure(figsize=(10,6))\n",
    "\n",
    "    # SMRT\n",
    "    smrt_tb = smrt.sel(channel=channel).reindex({'snowpack': pit_order})\n",
    "\n",
    "    spl = plt.errorbar(pit_order, smrt_tb['base'],\n",
    "                       yerr=[smrt_tb['base']-smrt_tb['low'], smrt_tb['high']-smrt_tb['base']],\n",
    "                       fmt='H', color='b', label='SMRT Sims', capsize=0, markeredgecolor='k',\n",
    "                       ecolor='dodgerblue', elinewidth=3)\n",
    "\n",
    "    # OBS - plot observations for relevant topography type within each AOI\n",
    "    tb_obs = []\n",
    "    for p in pit_order:\n",
    "        topo = pits.loc[p].topo_type\n",
    "        p = 'A04' if p == 'MetS' else p\n",
    "\n",
    "        tb_obs.append(obs.loc[p[:3]][channel][obs.loc[p[:3]][channel].topo_type==topo].TB)\n",
    "\n",
    "    boxprops = dict(color='k', linewidth=1)\n",
    "    medianprops = dict(color='k', linewidth=1)\n",
    "    flierprops = dict(marker='.', markeredgecolor='k',linestyle='none')\n",
    "    positions = range(0, len(tb_obs))\n",
    "\n",
    "    apl = plt.boxplot(tb_obs, positions=positions, medianprops=medianprops,\n",
    "                      boxprops=boxprops, flierprops=flierprops)\n",
    "    \n",
    "    # if requested plot ground observations (89 GHz only)\n",
    "    if ground == True:\n",
    "        gpl=plt.errorbar(positions, tb89v0[:,0], yerr = [tb89v0[:,1],tb89v0[:,2]], fmt='o',\n",
    "             color='salmon', label='Ground Data', capsize=3, markeredgecolor='k')\n",
    "    \n",
    "    # plot legend\n",
    "    box_patch = mpatches.Patch(edgecolor='k', facecolor='w', label='Airborne Data ('+flight+')')\n",
    "    if ground == True:\n",
    "        plt.legend(handles=[(box_patch), gpl, spl], loc='lower center', fontsize=14)\n",
    "    else:\n",
    "        plt.legend(handles=[(box_patch), spl], loc='lower center', fontsize=14)\n",
    "        \n",
    "    locs, labels = plt.xticks()\n",
    "    plt.xticks(locs, pit_order, rotation=90, fontsize=12)\n",
    "    plt.xlabel('Pit', fontsize=14)\n",
    "    \n",
    "    plt.yticks(fontsize=12)\n",
    "    if channel in ['M16-89', 'M17-157']:\n",
    "        plt.ylabel('TB'+channel[4:] +' @0 deg [K]', fontsize=14)\n",
    "    elif channel == '118+5.0':\n",
    "        plt.ylabel('TB118$\\pm$5.0 @0 deg [K]', fontsize=14)\n",
    "    elif channel == 'M20-183+7':\n",
    "        plt.ylabel('TB183$\\pm$7 @0 deg [K]', fontsize=14)\n",
    "    elif channel == '243':\n",
    "        plt.ylabel('TB243 @0 deg [K]', fontsize=14)\n",
    "        \n",
    "    plt.tight_layout(pad=2)\n",
    "    plt.show()"
   ]
  },
  {
   "cell_type": "code",
   "execution_count": null,
   "metadata": {},
   "outputs": [],
   "source": [
    "plot_results(smrt_c087, obs_c087, 'M16-89', 'C087', True)"
   ]
  },
  {
   "cell_type": "code",
   "execution_count": null,
   "metadata": {},
   "outputs": [],
   "source": [
    "plot_results(smrt_c090, obs_c090, 'M16-89', 'C090', True)"
   ]
  },
  {
   "cell_type": "code",
   "execution_count": null,
   "metadata": {},
   "outputs": [],
   "source": [
    "plot_results(smrt_c087, obs_c087, 'M20-183+7', 'C087')"
   ]
  },
  {
   "cell_type": "code",
   "execution_count": null,
   "metadata": {},
   "outputs": [],
   "source": [
    "plot_results(smrt_c090, obs_c090, 'M20-183+7', 'C090')"
   ]
  },
  {
   "cell_type": "markdown",
   "metadata": {},
   "source": [
    "### Plot multiple channels:"
   ]
  },
  {
   "cell_type": "code",
   "execution_count": null,
   "metadata": {},
   "outputs": [],
   "source": [
    "channels = ['M16-89','118+5.0','M17-157','M20-183+7','243']"
   ]
  },
  {
   "cell_type": "code",
   "execution_count": null,
   "metadata": {},
   "outputs": [],
   "source": [
    "def plot_all_channels(smrt, obs, flight):\n",
    "    fig, axes = plt.subplots(5,1,figsize=(10,20))\n",
    "\n",
    "    for channel, ax in zip(channels, axes):\n",
    "\n",
    "        # SMRT\n",
    "        smrt_tb = smrt.sel(channel=channel).reindex({'snowpack': pit_order})\n",
    "\n",
    "        spl = ax.errorbar(pit_order, smrt_tb['base'],\n",
    "                           yerr=[smrt_tb['base']-smrt_tb['low'], smrt_tb['high']-smrt_tb['base']],\n",
    "                           fmt='H', color='b', label='SMRT Sims', capsize=0, markeredgecolor='k',\n",
    "                           ecolor='dodgerblue', elinewidth=3)\n",
    "\n",
    "        # OBS\n",
    "        tb_obs = []\n",
    "        for p in pit_order:\n",
    "            topo = pits.loc[p].topo_type\n",
    "            p = 'A04' if p == 'MetS' else p\n",
    "\n",
    "            tb_obs.append(obs.loc[p[:3]][channel][obs.loc[p[:3]][channel].topo_type==topo].TB)\n",
    "\n",
    "        boxprops = dict(color='k', linewidth=1)\n",
    "        medianprops = dict(color='k', linewidth=1)\n",
    "        flierprops = dict(marker='.', markeredgecolor='k',linestyle='none')\n",
    "        positions = range(0, len(tb_obs))\n",
    "\n",
    "        apl = ax.boxplot(tb_obs, positions=positions, medianprops=medianprops,\n",
    "                          boxprops=boxprops, flierprops=flierprops)\n",
    "\n",
    "\n",
    "        ax.set_xticklabels(pit_order, rotation=90)\n",
    "        ax.set_xlabel('Pit #')\n",
    "\n",
    "        box_patch = mpatches.Patch(edgecolor='k', facecolor='w', label='Airborne Data ('+flight+')')\n",
    "        ax.legend(handles=[(box_patch), spl], loc='lower center')\n",
    "        \n",
    "    axes[0].set_ylabel('TB89 @0 deg [K]')\n",
    "    axes[1].set_ylabel('TB118$\\pm$5.0 @0 deg [K]')\n",
    "    axes[2].set_ylabel('TB157 @0 deg [K]')\n",
    "    axes[3].set_ylabel('TB183$\\pm$7 @0 deg [K]')\n",
    "    axes[4].set_ylabel('TB243 @0 deg [K]')\n",
    "\n",
    "    fig.subplots_adjust(hspace=0)\n",
    "    plt.show()"
   ]
  },
  {
   "cell_type": "code",
   "execution_count": null,
   "metadata": {},
   "outputs": [],
   "source": [
    "plot_all_channels(smrt_c087, obs_c087, 'C087')"
   ]
  },
  {
   "cell_type": "code",
   "execution_count": null,
   "metadata": {},
   "outputs": [],
   "source": [
    "plot_all_channels(smrt_c090, obs_c090, 'C090')"
   ]
  },
  {
   "cell_type": "markdown",
   "metadata": {},
   "source": [
    "### Plot C087 and C090 together:"
   ]
  },
  {
   "cell_type": "code",
   "execution_count": null,
   "metadata": {},
   "outputs": [],
   "source": [
    "fig, ax = plt.subplots(1,figsize=(16,6))\n",
    "channel = 'M16-89'\n",
    "\n",
    "tb_obs = []\n",
    "for p in pit_order:\n",
    "    topo = pits.loc[p].topo_type\n",
    "    p = 'A04' if p == 'MetS' else p\n",
    "\n",
    "    tb_obs.append(obs_c087.loc[p[:3]][channel][obs_c087.loc[p[:3]][channel].topo_type==topo].TB)\n",
    "    tb_obs.append(obs_c090.loc[p[:3]][channel][obs_c090.loc[p[:3]][channel].topo_type==topo].TB)\n",
    "    \n",
    "apl = ax.boxplot(tb_obs, positions=range(0, len(tb_obs)), showfliers=False)\n",
    "    \n",
    "smrt_tb_87 = smrt_c087.sel(channel=channel).reindex({'snowpack': pit_order})\n",
    "smrt_tb_90 = smrt_c090.sel(channel=channel).reindex({'snowpack': pit_order})\n",
    "\n",
    "spl = ax.errorbar(np.arange(0, len(pit_order)*2, 2), smrt_tb_87['base'],\n",
    "                       yerr=[smrt_tb_87['base']-smrt_tb_87['low'], smrt_tb_87['high']-smrt_tb_87['base']],\n",
    "                       fmt='H', color='b', label='SMRT Sims', capsize=0, markeredgecolor='k',\n",
    "                       ecolor='dodgerblue', elinewidth=3)  \n",
    "spl = ax.errorbar(np.arange(1, len(pit_order)*2, 2), smrt_tb_90['base'],\n",
    "                       yerr=[smrt_tb_90['base']-smrt_tb_90['low'], smrt_tb_90['high']-smrt_tb_90['base']],\n",
    "                       fmt='H', color='b', label='SMRT Sims', capsize=0, markeredgecolor='k',\n",
    "                       ecolor='dodgerblue', elinewidth=3)      \n",
    "    \n",
    "\n",
    "ax.xaxis.set_ticks(np.arange(0.5, len(pit_order)*2, 2))\n",
    "ax.set_xticklabels(pit_order, rotation=90)\n",
    "\n",
    "ax.xaxis.set_minor_locator(AutoMinorLocator(2))\n",
    "ax.grid(b=True, axis='x', which='minor', linestyle='--', alpha=0.5)\n",
    "\n",
    "ax.set_xticklabels(pit_order, rotation=90)\n",
    "ax.set_xlabel('Pit #')\n",
    "ax.set_ylabel('TB89 @0 deg [K]')\n",
    "\n",
    "gpl=ax.errorbar(np.arange(0, len(pit_order)*2, 2), tb89v0[:,0], yerr = [tb89v0[:,1],tb89v0[:,2]], fmt='o',\n",
    "         color='tomato', label='Ground Data', capsize=3, markeredgecolor='k')\n",
    "gpl2=ax.errorbar(np.arange(1, len(pit_order)*2, 2), tb89v0[:,0], yerr = [tb89v0[:,1],tb89v0[:,2]], fmt='o',\n",
    "         color='tomato', label='Ground Data', capsize=3, markeredgecolor='k')\n",
    "\n",
    "box_patch = mpatches.Patch(edgecolor='k', facecolor='w', label='Airborne Data')\n",
    "ax.legend(handles=[(box_patch), spl, gpl], loc='lower center')\n",
    "\n",
    "\n",
    "fig.subplots_adjust(hspace=0)\n",
    "plt.show()"
   ]
  },
  {
   "cell_type": "code",
   "execution_count": null,
   "metadata": {},
   "outputs": [],
   "source": [
    "fig, ax = plt.subplots(1,figsize=(16,6))\n",
    "\n",
    "channel = 'M20-183+7'\n",
    "\n",
    "tb_obs = []\n",
    "for p in pit_order:\n",
    "    topo = pits.loc[p].topo_type\n",
    "    p = 'A04' if p == 'MetS' else p\n",
    "\n",
    "    tb_obs.append(obs_c087.loc[p[:3]][channel][obs_c087.loc[p[:3]][channel].topo_type==topo].TB)\n",
    "    tb_obs.append(obs_c090.loc[p[:3]][channel][obs_c090.loc[p[:3]][channel].topo_type==topo].TB)\n",
    "    \n",
    "apl = ax.boxplot(tb_obs, positions=range(0, len(tb_obs)), showfliers=False)\n",
    "    \n",
    "smrt_tb_87 = smrt_c087.sel(channel=channel).reindex({'snowpack': pit_order})\n",
    "smrt_tb_90 = smrt_c090.sel(channel=channel).reindex({'snowpack': pit_order})\n",
    "\n",
    "spl = ax.errorbar(np.arange(0, len(pit_order)*2, 2), smrt_tb_87['base'],\n",
    "                       yerr=[smrt_tb_87['base']-smrt_tb_87['low'], smrt_tb_87['high']-smrt_tb_87['base']],\n",
    "                       fmt='H', color='b', label='SMRT Sims', capsize=0, markeredgecolor='k',\n",
    "                       ecolor='dodgerblue', elinewidth=3)  \n",
    "spl = ax.errorbar(np.arange(1, len(pit_order)*2, 2), smrt_tb_90['base'],\n",
    "                       yerr=[smrt_tb_90['base']-smrt_tb_90['low'], smrt_tb_90['high']-smrt_tb_90['base']],\n",
    "                       fmt='H', color='b', label='SMRT Sims', capsize=0, markeredgecolor='k',\n",
    "                       ecolor='dodgerblue', elinewidth=3)      \n",
    "    \n",
    "\n",
    "ax.xaxis.set_ticks(np.arange(0.5, len(pit_order)*2, 2))\n",
    "ax.set_xticklabels(pit_order, rotation=90)\n",
    "\n",
    "ax.xaxis.set_minor_locator(AutoMinorLocator(2))\n",
    "ax.grid(b=True, axis='x', which='minor', linestyle='--', alpha=0.5)\n",
    "\n",
    "ax.set_xticklabels(pit_order, rotation=90)\n",
    "ax.set_xlabel('Pit #')\n",
    "ax.set_ylabel('TB183$\\pm$7 @0 deg [K]')\n",
    "\n",
    "box_patch = mpatches.Patch(edgecolor='k', facecolor='w', label='Airborne Data')\n",
    "ax.legend(handles=[(box_patch), spl], loc='lower center')\n",
    "\n",
    "\n",
    "fig.subplots_adjust(hspace=0)\n",
    "plt.show()"
   ]
  },
  {
   "cell_type": "code",
   "execution_count": null,
   "metadata": {},
   "outputs": [],
   "source": [
    "fig, axes = plt.subplots(5,1,figsize=(16,20))\n",
    "\n",
    "for channel, ax in zip(channels, axes):\n",
    "    tb_obs = []\n",
    "    for p in pit_order:\n",
    "        topo = pits.loc[p].topo_type\n",
    "        p = 'A04' if p == 'MetS' else p\n",
    "\n",
    "        tb_obs.append(obs_c087.loc[p[:3]][channel][obs_c087.loc[p[:3]][channel].topo_type==topo].TB)\n",
    "        tb_obs.append(obs_c090.loc[p[:3]][channel][obs_c090.loc[p[:3]][channel].topo_type==topo].TB)\n",
    "\n",
    "    apl = ax.boxplot(tb_obs, positions=range(0, len(tb_obs)), showfliers=False)\n",
    "\n",
    "    smrt_tb_87 = smrt_c087.sel(channel=channel).reindex({'snowpack': pit_order})\n",
    "    smrt_tb_90 = smrt_c090.sel(channel=channel).reindex({'snowpack': pit_order})\n",
    "\n",
    "    spl = ax.errorbar(np.arange(0, len(pit_order)*2, 2), smrt_tb_87['base'],\n",
    "                           yerr=[smrt_tb_87['base']-smrt_tb_87['low'], smrt_tb_87['high']-smrt_tb_87['base']],\n",
    "                           fmt='H', color='b', label='SMRT Sims', capsize=0, markeredgecolor='k',\n",
    "                           ecolor='dodgerblue', elinewidth=3)  \n",
    "    spl = ax.errorbar(np.arange(1, len(pit_order)*2, 2), smrt_tb_90['base'],\n",
    "                           yerr=[smrt_tb_90['base']-smrt_tb_90['low'], smrt_tb_90['high']-smrt_tb_90['base']],\n",
    "                           fmt='H', color='b', label='SMRT Sims', capsize=0, markeredgecolor='k',\n",
    "                           ecolor='dodgerblue', elinewidth=3)      \n",
    "\n",
    "\n",
    "    ax.xaxis.set_ticks(np.arange(0.5, len(pit_order)*2, 2))\n",
    "    ax.set_xticklabels(pit_order, rotation=90)\n",
    "\n",
    "    ax.xaxis.set_minor_locator(AutoMinorLocator(2))\n",
    "    ax.grid(b=True, axis='x', which='minor', linestyle='--', alpha=0.5)\n",
    "\n",
    "    ax.set_xticklabels(pit_order, rotation=90)\n",
    "    ax.set_xlabel('Pit #')\n",
    "\n",
    "    box_patch = mpatches.Patch(edgecolor='k', facecolor='w', label='Airborne Data')\n",
    "    ax.legend(handles=[(box_patch), spl], loc='lower center')\n",
    "    if channel in ['M16-89', 'M17-157']:\n",
    "        ax.set_ylabel('TB'+channel[4:] +' @0 deg [K]')\n",
    "    elif channel == '118+5.0':\n",
    "        ax.set_ylabel('TB118$\\pm$5.0 @0 deg [K]')\n",
    "    elif channel == 'M20-183+7':\n",
    "        ax.set_ylabel('TB183$\\pm$7 @0 deg [K]')\n",
    "    elif channel == '243':\n",
    "        ax.set_ylabel('TB243 @0 deg [K]')\n",
    "        \n",
    "fig.subplots_adjust(hspace=0)\n",
    "plt.show()"
   ]
  },
  {
   "cell_type": "code",
   "execution_count": null,
   "metadata": {},
   "outputs": [],
   "source": [
    "fig, axes = plt.subplots(2,1,figsize=(16,8))\n",
    "\n",
    "for channel, ax in zip(['118+5.0', 'M20-183+7'], axes):\n",
    "    tb_obs = []\n",
    "    for p in pit_order:\n",
    "        topo = pits.loc[p].topo_type\n",
    "        p = 'A04' if p == 'MetS' else p\n",
    "\n",
    "        tb_obs.append(obs_c087.loc[p[:3]][channel][obs_c087.loc[p[:3]][channel].topo_type==topo].TB)\n",
    "        tb_obs.append(obs_c090.loc[p[:3]][channel][obs_c090.loc[p[:3]][channel].topo_type==topo].TB)\n",
    "\n",
    "    apl = ax.boxplot(tb_obs, positions=range(0, len(tb_obs)), showfliers=False)\n",
    "\n",
    "    smrt_tb_87 = smrt_c087.sel(channel=channel).reindex({'snowpack': pit_order})\n",
    "    smrt_tb_90 = smrt_c090.sel(channel=channel).reindex({'snowpack': pit_order})\n",
    "\n",
    "    spl = ax.errorbar(np.arange(0, len(pit_order)*2, 2), smrt_tb_87['base'],\n",
    "                           yerr=[smrt_tb_87['base']-smrt_tb_87['low'], smrt_tb_87['high']-smrt_tb_87['base']],\n",
    "                           fmt='H', color='b', label='SMRT Sims', capsize=0, markeredgecolor='k',\n",
    "                           ecolor='dodgerblue', elinewidth=3)  \n",
    "    spl = ax.errorbar(np.arange(1, len(pit_order)*2, 2), smrt_tb_90['base'],\n",
    "                           yerr=[smrt_tb_90['base']-smrt_tb_90['low'], smrt_tb_90['high']-smrt_tb_90['base']],\n",
    "                           fmt='H', color='b', label='SMRT Sims', capsize=0, markeredgecolor='k',\n",
    "                           ecolor='dodgerblue', elinewidth=3)      \n",
    "\n",
    "\n",
    "    ax.xaxis.set_ticks(np.arange(0.5, len(pit_order)*2, 2))\n",
    "    ax.set_xticklabels(pit_order, rotation=90)\n",
    "\n",
    "    ax.xaxis.set_minor_locator(AutoMinorLocator(2))\n",
    "    ax.grid(b=True, axis='x', which='minor', linestyle='--', alpha=0.5)\n",
    "\n",
    "    ax.set_xticklabels(pit_order, rotation=90)\n",
    "    ax.set_xlabel('Pit #')\n",
    "\n",
    "    box_patch = mpatches.Patch(edgecolor='k', facecolor='w', label='Airborne Data')\n",
    "    ax.legend(handles=[(box_patch), spl], loc='lower center')\n",
    "    if channel in ['M16-89', 'M17-157']:\n",
    "        ax.set_ylabel('TB'+channel[4:] +' @0 deg [K]')\n",
    "    elif channel == '118+5.0':\n",
    "        ax.set_ylabel('TB118$\\pm$5.0 @0 deg [K]')\n",
    "    elif channel == 'M20-183+7':\n",
    "        ax.set_ylabel('TB183$\\pm$7 @0 deg [K]')\n",
    "    elif channel == '243':\n",
    "        ax.set_ylabel('TB243 @0 deg [K]')\n",
    "        \n",
    "fig.subplots_adjust(hspace=0)\n",
    "plt.show()"
   ]
  },
  {
   "cell_type": "code",
   "execution_count": null,
   "metadata": {},
   "outputs": [],
   "source": []
  }
 ],
 "metadata": {
  "kernelspec": {
   "display_name": "aesop",
   "language": "python",
   "name": "aesop"
  },
  "language_info": {
   "codemirror_mode": {
    "name": "ipython",
    "version": 3
   },
   "file_extension": ".py",
   "mimetype": "text/x-python",
   "name": "python",
   "nbconvert_exporter": "python",
   "pygments_lexer": "ipython3",
   "version": "3.8.10"
  }
 },
 "nbformat": 4,
 "nbformat_minor": 4
}

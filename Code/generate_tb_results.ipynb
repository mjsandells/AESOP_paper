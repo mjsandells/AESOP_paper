{
 "cells": [
  {
   "cell_type": "markdown",
   "metadata": {},
   "source": [
    "## Example to generate results\n",
    "\n",
    "Here the results are generated for the C087 flight"
   ]
  },
  {
   "cell_type": "code",
   "execution_count": null,
   "metadata": {},
   "outputs": [],
   "source": [
    "import pandas as pd\n",
    "import numpy as np\n",
    "import xarray as xr\n",
    "%matplotlib widget\n",
    "import matplotlib.pyplot as plt\n",
    "\n",
    "import aesop\n",
    "from smrt import sensor_list\n",
    "from smrt_realistic_atmosphere import RealisticAtmosphere\n",
    "from smrt_aesop_setup import model, trenchdata, return_snowpack, sensor_89, sensor_157, sensor_183, sensor_118, sensor_243\n",
    "from run_smrt_with_realistic_atmosphere import run_smrt_with_atmosphere, tb_results"
   ]
  },
  {
   "cell_type": "markdown",
   "metadata": {},
   "source": [
    "# C087 results"
   ]
  },
  {
   "cell_type": "code",
   "execution_count": null,
   "metadata": {},
   "outputs": [],
   "source": [
    "results = run_smrt_with_atmosphere('C087', extremes=True)\n",
    "\n",
    "# Correct these results for Rayleigh-Jeans\n",
    "results_RJ = tb_results(results, save=True, filename='../Other/smrt_results_atmos/smrt_atmos_tb_C087.nc')"
   ]
  },
  {
   "cell_type": "markdown",
   "metadata": {},
   "source": [
    "# C090 results"
   ]
  },
  {
   "cell_type": "code",
   "execution_count": null,
   "metadata": {},
   "outputs": [],
   "source": [
    "results_C90 = run_smrt_with_atmosphere('C090', extremes=True)\n",
    "\n",
    "# Correct these results for Rayleigh-Jeans\n",
    "results_RJ_C90 = tb_results(results_C90, save=True, filename='../Other/smrt_results_atmos/smrt_atmos_tb_C090.nc')"
   ]
  },
  {
   "cell_type": "code",
   "execution_count": null,
   "metadata": {},
   "outputs": [],
   "source": [
    "# Uncomment to generate simulations without ice lenses\n",
    "# Note this is for the base case only\n",
    "# results = run_smrt_with_atmosphere('C087', with_ice_lens=False)\n",
    "\n",
    "# Correct these results for Rayleigh-Jeans\n",
    "# results_RJ = tb_results(results, save=True, filename='../Other/smrt_results_atmos/test_no_ice_lenses_C087.nc')"
   ]
  },
  {
   "cell_type": "markdown",
   "metadata": {},
   "source": [
    "# SMRT with no atmosphere"
   ]
  },
  {
   "cell_type": "code",
   "execution_count": null,
   "metadata": {},
   "outputs": [],
   "source": [
    "# Need to specify atmosphere so it can pick up frequencies - atmosphere then removed\n",
    "res_no_atmos = run_smrt_with_atmosphere('C087', extremes=True, skip_atmos=True)\n",
    "results_RJ_no_atmos = tb_results(res_no_atmos, save=True, filename='../Other/smrt_results_atmos/smrt_tb_no_atmosphere.nc')"
   ]
  },
  {
   "cell_type": "markdown",
   "metadata": {},
   "source": [
    "# Add thin fresh surface snow layer"
   ]
  },
  {
   "cell_type": "code",
   "execution_count": null,
   "metadata": {},
   "outputs": [],
   "source": [
    "res_with_SS = run_smrt_with_atmosphere('C090', extremes=True, fresh_snow=40)\n",
    "results_RJ_SS = tb_results(res_with_SS, save=True, filename='../Other/smrt_results_atmos/smrt_atmos_tb_C090_with_SS.nc')"
   ]
  },
  {
   "cell_type": "markdown",
   "metadata": {},
   "source": [
    "### Tests"
   ]
  },
  {
   "cell_type": "code",
   "execution_count": null,
   "metadata": {},
   "outputs": [],
   "source": [
    "# Load results instead\n",
    "#results_RJ = xr.open_dataset('../Other/smrt_results_atmos/test_ice_lenses_C087.nc')\n",
    "results_RJ = xr.open_dataset('../Other/smrt_results_atmos/test_no_ice_lenses_C087.nc')"
   ]
  },
  {
   "cell_type": "code",
   "execution_count": null,
   "metadata": {},
   "outputs": [],
   "source": [
    "# Get old results for comparison\n",
    "#smrt_c087 = xr.open_dataset('../Other/smrt_results_atmos_draft/smrt_atmos_tb_C087.nc') # Original with 2 missing ice lenses\n",
    "smrt_c087 = xr.open_dataset('../Other/smrt_results_atmos/test_ice_lenses_C087.nc')"
   ]
  },
  {
   "cell_type": "code",
   "execution_count": null,
   "metadata": {},
   "outputs": [],
   "source": [
    "plt.close()\n",
    "f = results_RJ['base'].frequency[0].values\n",
    "plt.figure(figsize=(12,6))\n",
    "#plt.plot(results['base'].TbV(frequency=f), 'bo', label='new runs')\n",
    "plt.plot(results_RJ.base.sel(channel=results_RJ.channel[0]), 'kX', label='new runs Rayleigh-Jeans')\n",
    "\n",
    "plt.plot(smrt_c087.base.sel(channel=smrt_c087.channel[0]), 'r+', label='old runs')\n",
    "\n",
    "\n",
    "#locs = np.arange(len(pits.index))\n",
    "#plt.xticks(locs, pits.index, rotation=90)\n",
    "plt.legend()"
   ]
  },
  {
   "cell_type": "code",
   "execution_count": null,
   "metadata": {},
   "outputs": [],
   "source": [
    "for c in results_RJ.channel.values:\n",
    "    print (c, np.mean(results_RJ.base.sel(channel=c) - smrt_c087.base.sel(channel=c)).values)"
   ]
  }
 ],
 "metadata": {
  "kernelspec": {
   "display_name": "aesop",
   "language": "python",
   "name": "aesop"
  },
  "language_info": {
   "codemirror_mode": {
    "name": "ipython",
    "version": 3
   },
   "file_extension": ".py",
   "mimetype": "text/x-python",
   "name": "python",
   "nbconvert_exporter": "python",
   "pygments_lexer": "ipython3",
   "version": "3.8.10"
  }
 },
 "nbformat": 4,
 "nbformat_minor": 4
}

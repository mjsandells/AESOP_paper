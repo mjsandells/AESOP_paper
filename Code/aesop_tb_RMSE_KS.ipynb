{
 "cells": [
  {
   "cell_type": "markdown",
   "metadata": {},
   "source": [
    "### Scatterplot of SMRT median vs obs: all frequencies"
   ]
  },
  {
   "cell_type": "code",
   "execution_count": null,
   "metadata": {},
   "outputs": [],
   "source": [
    "import pandas as pd\n",
    "import numpy as np\n",
    "import matplotlib.pyplot as plt\n",
    "from matplotlib.patches import Patch\n",
    "from scipy.stats import ks_2samp\n",
    "import xarray as xr"
   ]
  },
  {
   "cell_type": "code",
   "execution_count": null,
   "metadata": {},
   "outputs": [],
   "source": [
    "%load_ext autoreload\n",
    "%aimport aesop\n",
    "%autoreload 1"
   ]
  },
  {
   "cell_type": "markdown",
   "metadata": {},
   "source": [
    "Load observations:"
   ]
  },
  {
   "cell_type": "code",
   "execution_count": null,
   "metadata": {},
   "outputs": [],
   "source": [
    "obs_c087 = aesop.get_obs_per_aoi('C087')\n",
    "obs_c090 = aesop.get_obs_per_aoi('C090')"
   ]
  },
  {
   "cell_type": "markdown",
   "metadata": {},
   "source": [
    "Load SMRT results without atmosphere:"
   ]
  },
  {
   "cell_type": "code",
   "execution_count": null,
   "metadata": {},
   "outputs": [],
   "source": [
    "smrt_no_atmos = xr.open_dataset('../Other/smrt_results_atmos/smrt_tb_no_atmosphere.nc')"
   ]
  },
  {
   "cell_type": "markdown",
   "metadata": {},
   "source": [
    "Load SMRT results with atmosphere:"
   ]
  },
  {
   "cell_type": "code",
   "execution_count": null,
   "metadata": {},
   "outputs": [],
   "source": [
    "smrt_c087 = xr.open_dataset('../Other/smrt_results_atmos/smrt_atmos_tb_C087.nc')\n",
    "smrt_c090 = xr.open_dataset('../Other/smrt_results_atmos/smrt_atmos_tb_C090.nc')"
   ]
  },
  {
   "cell_type": "markdown",
   "metadata": {},
   "source": [
    "Load pits with topography:"
   ]
  },
  {
   "cell_type": "code",
   "execution_count": null,
   "metadata": {},
   "outputs": [],
   "source": [
    "pits = aesop.get_pit_topography()"
   ]
  },
  {
   "cell_type": "code",
   "execution_count": null,
   "metadata": {},
   "outputs": [],
   "source": [
    "ch_list = ['M16-89', '118+5.0', 'M17-157', 'M20-183+7', '243']\n",
    "obs_medians = [np.quantile(obs_c087[channel].dropna().TB.values, 0.5) for channel in ch_list] + [np.quantile(obs_c090[channel].dropna().TB.values, 0.5) for channel in ch_list]\n",
    "smrt_no_atmos_medians = [np.quantile(smrt_no_atmos['base'].sel(channel=channel),0.5) for channel in ch_list] * 2\n",
    "smrt_with_atmos = [np.quantile(smrt_c087['base'].sel(channel=channel),0.5) for channel in ch_list] + [np.nanquantile(smrt_c090['base'].sel(channel=channel),0.5) for channel in ch_list]  "
   ]
  },
  {
   "cell_type": "code",
   "execution_count": null,
   "metadata": {},
   "outputs": [],
   "source": [
    "plt.close()\n",
    "plt.scatter(obs_medians, smrt_no_atmos_medians, label='no atmos')\n",
    "plt.scatter(obs_medians, smrt_with_atmos, label='with atmos')\n",
    "plt.plot(obs_medians, obs_medians, 'k-', alpha=0.2)\n",
    "plt.legend()\n",
    "plt.xlabel('Observed TB (K)')\n",
    "plt.ylabel('Simulated TB (K)')"
   ]
  },
  {
   "cell_type": "code",
   "execution_count": null,
   "metadata": {},
   "outputs": [],
   "source": [
    "# RMSE\n",
    "print (np.sqrt(np.nanmean((np.asarray(obs_medians) - np.asarray(smrt_no_atmos_medians))**2)))\n",
    "print (np.sqrt(np.nanmean((np.asarray(obs_medians) - np.asarray(smrt_with_atmos))**2)))"
   ]
  },
  {
   "cell_type": "markdown",
   "metadata": {},
   "source": [
    "Calc RMSE considering SMRT simulations vs topography type in AOI"
   ]
  },
  {
   "cell_type": "code",
   "execution_count": null,
   "metadata": {},
   "outputs": [],
   "source": [
    "# Single flight - C087\n",
    "obs = obs_c087\n",
    "smrt = smrt_c087\n",
    "#obs = obs_c090\n",
    "#smrt = smrt_c090\n",
    "tb_obs = []\n",
    "smrt_tb = []\n",
    "smrt_tb_noatmos = []\n",
    "\n",
    "pit_order = smrt_c087.snowpack.values\n",
    "\n",
    "channels = ['M16-89','118+5.0','M17-157','M20-183+7','243']\n",
    "\n",
    "for channel in channels:\n",
    "    for p in pit_order:\n",
    "            topo = pits.loc[p].topo_type\n",
    "            p = 'A04' if p == 'MetS' else p\n",
    "\n",
    "            tb_obs.append(np.nanmedian(obs.loc[p[:3]][channel][obs.loc[p[:3]][channel].topo_type==topo].TB))\n",
    "\n",
    "    smrt_tb.append(smrt.sel(channel=channel)['base'].values)\n",
    "    smrt_tb_noatmos.append(smrt_no_atmos.sel(channel=channel)['base'].values)\n",
    "\n",
    "# SMRT into single array rather than list of arrays by frequency\n",
    "smrt_tb = np.concatenate(smrt_tb).ravel().tolist()\n",
    "smrt_tb_noatmos = np.concatenate(smrt_tb_noatmos).ravel().tolist()"
   ]
  },
  {
   "cell_type": "code",
   "execution_count": null,
   "metadata": {},
   "outputs": [],
   "source": [
    "plt.close()\n",
    "plt.scatter(tb_obs, smrt_tb_noatmos, label='no atmos')\n",
    "plt.scatter(tb_obs, smrt_tb, label='with atmos')\n",
    "plt.plot(tb_obs, tb_obs, 'k-', alpha=0.2)\n",
    "plt.legend()\n",
    "plt.xlabel('Observed TB (K)')\n",
    "plt.ylabel('Simulated TB (K)')"
   ]
  },
  {
   "cell_type": "code",
   "execution_count": null,
   "metadata": {},
   "outputs": [],
   "source": [
    "# RMSE - individual pits by topo type for one flight\n",
    "print (np.sqrt(np.nanmean((np.asarray(tb_obs) - np.asarray(smrt_tb_noatmos))**2)))\n",
    "print (np.sqrt(np.nanmean((np.asarray(tb_obs) - np.asarray(smrt_tb))**2)))"
   ]
  },
  {
   "cell_type": "code",
   "execution_count": null,
   "metadata": {},
   "outputs": [],
   "source": [
    "# Distribution statistics\n",
    "def get_dist_stats(channel):\n",
    "    tb_all = obs_c087[channel].dropna().TB.values # Unhash these lines to only use data for C087.\n",
    "    smrt_all = np.concatenate((smrt_c087['base'].sel(channel=channel), smrt_c087['high'].sel(channel=channel), smrt_c087['low'].sel(channel=channel)))\n",
    "    smrt_noatmos = np.concatenate((smrt_no_atmos['base'].sel(channel=channel), smrt_no_atmos['high'].sel(channel=channel), smrt_no_atmos['low'].sel(channel=channel)))\n",
    "    print('Obs mean: ', np.round(np.nanmean(tb_all),1), 'Obs median: ', np.round(np.nanquantile(tb_all, 0.5),1), 'Obs spread: ', np.round(np.max(tb_all) - np.min(tb_all),1))\n",
    "    print('SMRT mean: ', np.round(np.nanmean(smrt_noatmos),1), 'SMRT median: ', np.round(np.nanquantile(smrt_noatmos, 0.5),1), 'SMRT spread: ', np.round(np.max(smrt_noatmos) - np.min(smrt_noatmos),1))\n",
    "    print('SMRT+atmos mean: ', np.round(np.nanmean(smrt_all),1), 'SMRT+atmos median: ', np.round(np.nanquantile(smrt_all, 0.5),1), 'SMRT+atmos spread: ', np.round(np.max(smrt_all) - np.min(smrt_all),1))\n",
    "    \n",
    "    # Kolmogorov-Smirnov 2 sample test\n",
    "    # https://docs.scipy.org/doc/scipy/reference/generated/scipy.stats.ks_2samp.html\n",
    "    print ('SMRT vs Obs K-S test', ks_2samp(tb_all, smrt_noatmos))\n",
    "    print ('SMRT+atmos vs Obs K-S test', ks_2samp(tb_all, smrt_all))"
   ]
  },
  {
   "cell_type": "code",
   "execution_count": null,
   "metadata": {},
   "outputs": [],
   "source": [
    "# Channels: ['M16-89', '118+5.0', 'M17-157', 'M20-183+7', '243']\n",
    "# Null hypothesis: from same distribution\n",
    "# Reject null hypothesis if p-value < e.g. 0.05 for 5% level (95% confidence)\n",
    "get_dist_stats('M16-89')"
   ]
  },
  {
   "cell_type": "code",
   "execution_count": null,
   "metadata": {},
   "outputs": [],
   "source": [
    "get_dist_stats('118+5.0')"
   ]
  },
  {
   "cell_type": "code",
   "execution_count": null,
   "metadata": {},
   "outputs": [],
   "source": [
    "get_dist_stats('M17-157')"
   ]
  },
  {
   "cell_type": "code",
   "execution_count": null,
   "metadata": {},
   "outputs": [],
   "source": [
    "get_dist_stats('M20-183+7')"
   ]
  },
  {
   "cell_type": "code",
   "execution_count": null,
   "metadata": {},
   "outputs": [],
   "source": [
    "get_dist_stats('243')"
   ]
  },
  {
   "cell_type": "code",
   "execution_count": null,
   "metadata": {},
   "outputs": [],
   "source": [
    "# Check KS use by taking from same population\n",
    "tb_all = obs_c087['M16-89'].dropna().TB.values\n",
    "tb_some = np.random.choice(tb_all, 5)\n",
    "ks_2samp(tb_all, tb_some)"
   ]
  },
  {
   "cell_type": "code",
   "execution_count": null,
   "metadata": {},
   "outputs": [],
   "source": []
  }
 ],
 "metadata": {
  "kernelspec": {
   "display_name": "Python 3",
   "language": "python",
   "name": "python3"
  },
  "language_info": {
   "codemirror_mode": {
    "name": "ipython",
    "version": 3
   },
   "file_extension": ".py",
   "mimetype": "text/x-python",
   "name": "python",
   "nbconvert_exporter": "python",
   "pygments_lexer": "ipython3",
   "version": "3.8.10"
  }
 },
 "nbformat": 4,
 "nbformat_minor": 4
}

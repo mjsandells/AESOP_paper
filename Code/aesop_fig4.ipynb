{
 "cells": [
  {
   "cell_type": "markdown",
   "metadata": {},
   "source": [
    "# This notebook extracts airborne data closest to pits, plots ground data and SMRT simulations"
   ]
  },
  {
   "cell_type": "code",
   "execution_count": null,
   "metadata": {},
   "outputs": [],
   "source": [
    "import numpy as np\n",
    "import pandas as pd\n",
    "import xarray as xr\n",
    "import math\n",
    "import matplotlib.pyplot as plt\n",
    "from scipy.stats import linregress\n",
    "from numpy.polynomial.polynomial import polyfit\n",
    "from mpl_toolkits.axes_grid1.inset_locator import zoomed_inset_axes\n",
    "from mpl_toolkits.axes_grid1.inset_locator import mark_inset\n",
    "%matplotlib widget"
   ]
  },
  {
   "cell_type": "code",
   "execution_count": null,
   "metadata": {},
   "outputs": [],
   "source": [
    "%load_ext autoreload\n",
    "%aimport aesop\n",
    "%aimport run_smrt_with_realistic_atmosphere\n",
    "%autoreload 1"
   ]
  },
  {
   "cell_type": "markdown",
   "metadata": {},
   "source": [
    "Load pits:"
   ]
  },
  {
   "cell_type": "code",
   "execution_count": null,
   "metadata": {},
   "outputs": [],
   "source": [
    "pits = aesop.get_pit_topography()\n",
    "for pit in pits.index:\n",
    "    for aoi in ['A02', 'A03', 'A04', 'A05', 'A06', 'A07', 'A08', 'A09']:\n",
    "        if aoi in pit:\n",
    "            pits.loc[pit, 'aoi'] = aoi\n",
    "    if pit == 'MetStation':\n",
    "        pits.loc[pit, 'aoi'] = 'A04'"
   ]
  },
  {
   "cell_type": "markdown",
   "metadata": {},
   "source": [
    "Uncorrected ground data:"
   ]
  },
  {
   "cell_type": "code",
   "execution_count": null,
   "metadata": {},
   "outputs": [],
   "source": [
    "sbr = pd.read_csv('../Data/ground_obs/more89forMel.csv')"
   ]
  },
  {
   "cell_type": "code",
   "execution_count": null,
   "metadata": {},
   "outputs": [],
   "source": [
    "tb89v0 = aesop.ground_based_data(sbr, '89V0', pits)"
   ]
  },
  {
   "cell_type": "markdown",
   "metadata": {},
   "source": [
    "Load SMRT simulations and correct to ground height for comparison with ground based radiometer observations. Use simulations for both flights."
   ]
  },
  {
   "cell_type": "code",
   "execution_count": null,
   "metadata": {},
   "outputs": [],
   "source": [
    "smrt_c087 = xr.open_dataset('../Other/smrt_results_atmos/smrt_atmos_tb_C087.nc')\n",
    "smrt_c090 = xr.open_dataset('../Other/smrt_results_atmos/smrt_atmos_tb_C090.nc')"
   ]
  },
  {
   "cell_type": "code",
   "execution_count": null,
   "metadata": {},
   "outputs": [],
   "source": [
    "def correct_to_surface(smrt_tb, flight):\n",
    "    \n",
    "    offset = aesop.bt_offset('M16-89')\n",
    "    \n",
    "    corr = []\n",
    "    for pit in smrt_tb.snowpack:\n",
    "        if str(pit.values) == 'MetS':\n",
    "            aoi = 'A04'\n",
    "        else:\n",
    "            aoi = str(pit.values)[0:3]\n",
    "\n",
    "        atmos = run_smrt_with_realistic_atmosphere.get_atmosphere(flight, aoi, True)\n",
    "        tbup, trans = atmos.tbup(89e9,1.0,2)[0], atmos.trans(89e9,1.0,2)[0]\n",
    "\n",
    "        corr.append((((smrt_tb.sel(snowpack=pit, channel='M16-89')+offset)-tbup)/trans)-offset)\n",
    "\n",
    "    return xr.concat(corr, dim='snowpack')"
   ]
  },
  {
   "cell_type": "code",
   "execution_count": null,
   "metadata": {},
   "outputs": [],
   "source": [
    "c087_corrected = correct_to_surface(smrt_c087, 'C087').loc[{'snowpack': pits.index}]\n",
    "c090_corrected = correct_to_surface(smrt_c090, 'C090').loc[{'snowpack': pits.index}]"
   ]
  },
  {
   "cell_type": "markdown",
   "metadata": {},
   "source": [
    "Plot SMRT simulations vs ground based observations at nadir:"
   ]
  },
  {
   "cell_type": "code",
   "execution_count": null,
   "metadata": {},
   "outputs": [],
   "source": [
    "fig, ax = plt.subplots(figsize=(6,6))\n",
    "\n",
    "smrt_base = np.mean([c087_corrected['base'].values, c090_corrected['base'].values], axis=0)\n",
    "smrt_high = np.mean([c087_corrected['high'].values, c090_corrected['high'].values], axis=0)\n",
    "smrt_low = np.mean([c087_corrected['low'].values, c090_corrected['low'].values], axis=0)\n",
    "\n",
    "bars_a = ax.errorbar(tb89v0[:,0], smrt_base,\n",
    "             xerr=[tb89v0[:,1],tb89v0[:,2]],\n",
    "             yerr=[smrt_base-smrt_low,smrt_high-smrt_base],\n",
    "             fmt='o', label='89V0', color='b', alpha=0.6)\n",
    "[bar.set_alpha(0.6) for bar in bars_a[2]]\n",
    "\n",
    "\n",
    "axins = zoomed_inset_axes(ax, 2, loc=4) # zoom = 6\n",
    "axins.plot(tb89v0[:,0], smrt_base, 'bo', alpha=0.6)\n",
    "axins.set_xlim(176, 198) # Limit the region for zoom\n",
    "axins.set_ylim(142, 165)\n",
    "\n",
    "axins.set_xticks([])  # Not present ticks\n",
    "axins.set_yticks([])\n",
    "\n",
    "## draw a bbox of the region of the inset axes in the parent axes and\n",
    "## connecting lines between the bbox and the inset axes area\n",
    "mark_inset(ax, axins, loc1=2, loc2=3, fc=\"none\", ec=\"0.5\", alpha=0.2) \n",
    "\n",
    "for label, x, y in zip(pits.index, tb89v0[:,0], smrt_base):\n",
    "    if label in ['A03W', 'A05W']:\n",
    "        ax.annotate(label, xy=(x, y), xytext=(3, 3), textcoords=\"offset points\")\n",
    "    if label in ['A03C1', 'A06N']:\n",
    "        axins.annotate(label, xy=(x, y), xytext=(3, 3), textcoords=\"offset points\")\n",
    "    elif label in ['A06S1']:\n",
    "        axins.annotate(label, xy=(x, y), xytext=(3, -12), textcoords=\"offset points\")\n",
    "        \n",
    "\n",
    "ax.plot(np.arange(100, 280, 10), np.arange(100, 280, 10), 'k--')\n",
    "\n",
    "# plt.legend()\n",
    "# plt.title('SMRT vs SBR @89 GHz')\n",
    "ax.set_xlabel('Ground Observed TB [K]')\n",
    "ax.set_ylabel('SMRT TB [K]')\n",
    "ax.tick_params(axis='x')\n",
    "ax.tick_params(axis='y')\n",
    "\n",
    "ax.set_aspect('equal', adjustable='box')\n",
    "ax.set_xlim(120, 260)\n",
    "ax.set_ylim(120, 260)\n",
    "fig.canvas.width = '600px'\n",
    "fig.canvas.height = '600px'\n",
    "#fig.savefig('../Figs/Fig4.png')"
   ]
  },
  {
   "cell_type": "code",
   "execution_count": null,
   "metadata": {},
   "outputs": [],
   "source": [
    "x = tb89v0[:,0]\n",
    "y = smrt_base\n",
    "mask = ~np.isnan(x)\n",
    "\n",
    "slope, intercept, r_value, p_value, std_err = linregress(x[mask], y[mask])\n",
    "print ('r^2: ',r_value**2)\n",
    "print ('ME: ', np.sum(y[mask]-x[mask]) / len(y[mask]))\n",
    "print ('rmse: ', np.sqrt(np.mean((y[mask]-x[mask])**2)))"
   ]
  },
  {
   "cell_type": "code",
   "execution_count": null,
   "metadata": {},
   "outputs": [],
   "source": [
    "# Remove outliers A06N [18], A06S1 [19] and A03C1 [3]\n",
    "import copy\n",
    "remask = copy.deepcopy(mask)"
   ]
  },
  {
   "cell_type": "code",
   "execution_count": null,
   "metadata": {},
   "outputs": [],
   "source": [
    "remask[3] = False #A03C1\n",
    "remask[18] = False #A06N\n",
    "remask[19] = False #A06S1"
   ]
  },
  {
   "cell_type": "code",
   "execution_count": null,
   "metadata": {},
   "outputs": [],
   "source": [
    "newslope, newintercept, newr_value, newp_value, newstd_err = linregress(x[remask], y[remask])\n",
    "print ('r^2: ',newr_value**2)\n",
    "print ('ME: ', np.sum(y[remask]-x[remask]) / len(y[remask]))\n",
    "print ('rmse: ', np.sqrt(np.mean((y[remask]-x[remask])**2)))"
   ]
  },
  {
   "cell_type": "code",
   "execution_count": null,
   "metadata": {},
   "outputs": [],
   "source": []
  }
 ],
 "metadata": {
  "kernelspec": {
   "display_name": "Python 3",
   "language": "python",
   "name": "python3"
  },
  "language_info": {
   "codemirror_mode": {
    "name": "ipython",
    "version": 3
   },
   "file_extension": ".py",
   "mimetype": "text/x-python",
   "name": "python",
   "nbconvert_exporter": "python",
   "pygments_lexer": "ipython3",
   "version": "3.8.10"
  }
 },
 "nbformat": 4,
 "nbformat_minor": 4
}

{
 "cells": [
  {
   "cell_type": "markdown",
   "metadata": {},
   "source": [
    "### Plot TVC topography, AOI polygons and pit locations"
   ]
  },
  {
   "cell_type": "code",
   "execution_count": null,
   "metadata": {},
   "outputs": [],
   "source": [
    "import rasterio\n",
    "from rasterio.plot import show\n",
    "%matplotlib widget\n",
    "import matplotlib.pyplot as plt\n",
    "import matplotlib.colors as colors\n",
    "from matplotlib.colors import ListedColormap\n",
    "from matplotlib.patches import Patch\n",
    "from matplotlib.patches import Rectangle\n",
    "from matplotlib_scalebar.scalebar import ScaleBar"
   ]
  },
  {
   "cell_type": "code",
   "execution_count": null,
   "metadata": {},
   "outputs": [],
   "source": [
    "%load_ext autoreload\n",
    "%aimport aesop\n",
    "%autoreload 1"
   ]
  },
  {
   "cell_type": "markdown",
   "metadata": {},
   "source": [
    "Load topography, pits and aoi polygons:"
   ]
  },
  {
   "cell_type": "code",
   "execution_count": null,
   "metadata": {},
   "outputs": [],
   "source": [
    "topography_rast = rasterio.open('../Data/topography/TPIsimple.tif')"
   ]
  },
  {
   "cell_type": "code",
   "execution_count": null,
   "metadata": {},
   "outputs": [],
   "source": [
    "pits_with_topo = aesop.get_pit_topography()"
   ]
  },
  {
   "cell_type": "code",
   "execution_count": null,
   "metadata": {},
   "outputs": [],
   "source": [
    "aoi_polygons = aesop.get_aoi_polygons()\n",
    "aoi_polygons = aoi_polygons.to_crs(crs=topography_rast.crs.data)"
   ]
  },
  {
   "cell_type": "code",
   "execution_count": null,
   "metadata": {},
   "outputs": [],
   "source": [
    "# Replace AOI labels\n",
    "old_indices = aoi_polygons.index.values\n",
    "new_indices = []\n",
    "\n",
    "for idx in old_indices:\n",
    "    new_indices.append(idx.replace('0','OI'))\n",
    "aoi_polygons['label'] = new_indices"
   ]
  },
  {
   "cell_type": "markdown",
   "metadata": {},
   "source": [
    "Plot figure 1:"
   ]
  },
  {
   "cell_type": "code",
   "execution_count": null,
   "metadata": {},
   "outputs": [],
   "source": [
    "fig, ax = plt.subplots(figsize=(14,14))\n",
    "\n",
    "cmap = ListedColormap(['#CD853F', '#FFFF66', '#90EE90', '#3399FF'])\n",
    "rasterio.plot.show(topography_rast, ax=ax, cmap=cmap)\n",
    "\n",
    "# pits_with_topo.plot(facecolor='#33FFFF', edgecolor='k', ax=ax, markersize=60, label='pits')\n",
    "pits_with_topo.plot(marker='P', c='#33FFFF', ax=ax, markersize=100, label='Pits', edgecolor='k')\n",
    "\n",
    "aoi_polygons.plot(edgecolor='#0066CC', facecolor='none', linewidth=2, ax=ax, label='Areas of Interest')\n",
    "aoi_legend = Rectangle([0,0], 1,1, edgecolor='#0066CC', facecolor='none', linewidth=2, label='Areas of Interest')\n",
    "\n",
    "ax.get_xaxis().set_visible(False)\n",
    "ax.get_yaxis().set_visible(False)\n",
    "\n",
    "handles, labels = ax.get_legend_handles_labels()\n",
    "legend_labels = {'#CD853F': 'Plateau', '#FFFF66': 'Valley', '#90EE90': 'Slopes', '#FFFFFF': ''}\n",
    "\n",
    "patches = [Patch(color=color, label=label)\n",
    "           for color, label in legend_labels.items()]\n",
    "\n",
    "plt.legend(handles=patches+handles+[aoi_legend],\n",
    "          bbox_to_anchor=(0.26, 1),\n",
    "          facecolor='white',\n",
    "          edgecolor='white',\n",
    "          title='Topographic index:', fontsize=16)\n",
    "plt.setp(ax.get_legend().get_title(), fontsize='16')\n",
    "\n",
    "# Label AOIs\n",
    "# xmin=0, ymin=1, xmax=2, ymax=[3] \n",
    "for idx, row in aoi_polygons.iterrows():\n",
    "    if idx in ['A02', 'A04']:\n",
    "        plt.annotate(text=row.label, xy=(row.geometry.bounds[0], row.geometry.bounds[3]),\n",
    "                 horizontalalignment='center', fontsize=14)\n",
    "    elif idx in ['A03']:\n",
    "        plt.annotate(text=row.label, xy=(row.geometry.bounds[2], row.geometry.bounds[3]),\n",
    "                 horizontalalignment='center', fontsize=14)\n",
    "    elif idx in ['A05']:\n",
    "        plt.annotate(text=row.label, xy=(row.geometry.bounds[0], row.geometry.bounds[1]),\n",
    "                 horizontalalignment='left', verticalalignment='top',fontsize=14)\n",
    "    else:\n",
    "        plt.annotate(text=row.label, xy=(row.geometry.bounds[0], row.geometry.bounds[1]),\n",
    "                 horizontalalignment='right', fontsize=14)\n",
    "\n",
    "# Scale bar from https://geopandas.org/en/stable/gallery/matplotlib_scalebar.html        \n",
    "ax.add_artist(ScaleBar(1))\n",
    "\n",
    "plt.show()\n",
    "plt.savefig(\"../Figs/Fig1.png\",bbox_inches='tight')"
   ]
  },
  {
   "cell_type": "code",
   "execution_count": null,
   "metadata": {},
   "outputs": [],
   "source": []
  }
 ],
 "metadata": {
  "kernelspec": {
   "display_name": "Python 3 (ipykernel)",
   "language": "python",
   "name": "python3"
  },
  "language_info": {
   "codemirror_mode": {
    "name": "ipython",
    "version": 3
   },
   "file_extension": ".py",
   "mimetype": "text/x-python",
   "name": "python",
   "nbconvert_exporter": "python",
   "pygments_lexer": "ipython3",
   "version": "3.11.9"
  }
 },
 "nbformat": 4,
 "nbformat_minor": 4
}

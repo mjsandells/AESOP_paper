{
 "cells": [
  {
   "cell_type": "markdown",
   "metadata": {},
   "source": [
    "## This notebook looks at the sensitivity of A04N simulations to:\n",
    "\n",
    "1. Modified debye relationship\n",
    "2. Basal air gap\n",
    "3. Density and SSA range\n",
    "4. Presence of a surface crust\n",
    "5. Snow depth"
   ]
  },
  {
   "cell_type": "code",
   "execution_count": null,
   "metadata": {},
   "outputs": [],
   "source": [
    "import numpy as np\n",
    "#%matplotlib notebook\n",
    "import matplotlib.pyplot as plt\n",
    "import xarray as xr\n",
    "import pandas as pd\n",
    "import glob\n",
    "from matplotlib.lines import Line2D\n",
    "from datetime import datetime, timedelta\n",
    "from scipy.stats import linregress\n",
    "import scipy.io as sio\n",
    "from copy import deepcopy\n",
    "%load_ext autoreload\n",
    "\n",
    "from smrt_aesop_setup import return_snowpack\n",
    "from run_smrt_with_realistic_atmosphere import get_atmosphere, tb_results"
   ]
  },
  {
   "cell_type": "code",
   "execution_count": null,
   "metadata": {},
   "outputs": [],
   "source": [
    "matfile = sio.loadmat('../Data/ground_obs/TVC2018_trenches.mat',struct_as_record=False, squeeze_me=True)\n",
    "A04N = matfile['TVC'].A04N"
   ]
  },
  {
   "cell_type": "code",
   "execution_count": null,
   "metadata": {},
   "outputs": [],
   "source": [
    "# Make snowpacks\n",
    "print (A04N.layer_thickness.layer_thickness) # layer_thickness\n",
    "print (A04N.ice_lens.ice_lens_height_top) # ice_loc"
   ]
  },
  {
   "cell_type": "code",
   "execution_count": null,
   "metadata": {},
   "outputs": [],
   "source": [
    "# SMRT import statements\n",
    "# SMRT imports\n",
    "from smrt import make_snowpack, make_model, sensor_list, make_soil\n",
    "from smrt.core.globalconstants import DENSITY_OF_ICE, FREEZING_POINT"
   ]
  },
  {
   "cell_type": "code",
   "execution_count": null,
   "metadata": {},
   "outputs": [],
   "source": [
    "# Get atmosphere\n",
    "atmosphere = get_atmosphere('C087', 'A04', single_frequency=True)\n",
    "\n",
    "# Construct snowpack with ice lens\n",
    "base_snowpack = return_snowpack(A04N, with_ice_lens=True,flight_temperature_correction='C087',\n",
    "                                atmosphere=atmosphere)"
   ]
  },
  {
   "cell_type": "code",
   "execution_count": null,
   "metadata": {},
   "outputs": [],
   "source": [
    "# Set up SMRT model configurations\n",
    "ibam = make_model('iba', 'dort')"
   ]
  },
  {
   "cell_type": "code",
   "execution_count": null,
   "metadata": {},
   "outputs": [],
   "source": [
    "# Set up sensor configuration\n",
    "# Need to get as near to nadir as possible to tie in with airborne observations\n",
    "rad = sensor_list.passive(89e9, 0)"
   ]
  },
  {
   "cell_type": "code",
   "execution_count": null,
   "metadata": {},
   "outputs": [],
   "source": [
    "# Run model\n",
    "base_res = ibam.run(rad, base_snowpack)"
   ]
  },
  {
   "cell_type": "code",
   "execution_count": null,
   "metadata": {},
   "outputs": [],
   "source": [
    "tb_results(base_res.TbV(), single_frequency=89e9)"
   ]
  },
  {
   "cell_type": "code",
   "execution_count": null,
   "metadata": {},
   "outputs": [],
   "source": [
    "# Get pit location info\n",
    "import aesop\n",
    "%autoreload\n",
    "pits = aesop.get_pits()"
   ]
  },
  {
   "cell_type": "code",
   "execution_count": null,
   "metadata": {},
   "outputs": [],
   "source": [
    "# Get flight data near pits\n",
    "TB_all = aesop.get_marss_data(max_dist_in_km=0.25, theta=0, channel=0, pits=pits[pits.index=='A04N'])"
   ]
  },
  {
   "cell_type": "code",
   "execution_count": null,
   "metadata": {},
   "outputs": [],
   "source": [
    "# Get ground-based TB\n",
    "# Read in ground-based radiometer observations\n",
    "# NB no date info in file\n",
    "sbr = pd.read_csv('../Data/ground_obs/more89forMel.csv')"
   ]
  },
  {
   "cell_type": "code",
   "execution_count": null,
   "metadata": {},
   "outputs": [],
   "source": [
    "# Get sbr data for all channels, all pits\n",
    "tb89h0 = aesop.ground_based_data(sbr, '89H0', pits[pits.index=='A04N1'])\n",
    "tb89v0 = aesop.ground_based_data(sbr, '89V0', pits[pits.index=='A04N1'])"
   ]
  },
  {
   "cell_type": "markdown",
   "metadata": {},
   "source": [
    "### Experiment 1: modified debye relationship"
   ]
  },
  {
   "cell_type": "code",
   "execution_count": null,
   "metadata": {},
   "outputs": [],
   "source": [
    "# pex = 0.8....1.2pc for depth hoar: Leinss et al, TC, 2019\n",
    "mod_debye_snowpack = return_snowpack(A04N, with_ice_lens=True, dh_debye=1.2,\n",
    "                                     flight_temperature_correction='C087',\n",
    "                                     atmosphere=atmosphere)"
   ]
  },
  {
   "cell_type": "code",
   "execution_count": null,
   "metadata": {},
   "outputs": [],
   "source": [
    "debye_res = ibam.run(rad, mod_debye_snowpack)"
   ]
  },
  {
   "cell_type": "code",
   "execution_count": null,
   "metadata": {},
   "outputs": [],
   "source": [
    "tb_results(debye_res.TbV(), single_frequency=89e9)"
   ]
  },
  {
   "cell_type": "markdown",
   "metadata": {},
   "source": [
    "### Experiment 2: Basal air gap\n",
    "\n",
    "Put super low density layer of mostly air at base of snowpack"
   ]
  },
  {
   "cell_type": "code",
   "execution_count": null,
   "metadata": {},
   "outputs": [],
   "source": [
    "airgap_snowpack = return_snowpack(A04N, with_ice_lens=True, airgap=True,\n",
    "                                  flight_temperature_correction='C087',\n",
    "                                  atmosphere=atmosphere)\n",
    "airgap_res = ibam.run(rad, airgap_snowpack)"
   ]
  },
  {
   "cell_type": "code",
   "execution_count": null,
   "metadata": {},
   "outputs": [],
   "source": [
    "tb_results(airgap_res.TbV(), single_frequency=89e9)"
   ]
  },
  {
   "cell_type": "markdown",
   "metadata": {},
   "source": [
    "### Experiment 3: Max / Min density / SSA"
   ]
  },
  {
   "cell_type": "code",
   "execution_count": null,
   "metadata": {},
   "outputs": [],
   "source": [
    "# Make list of snowpacks with\n",
    "# 1. Low density, low SSA\n",
    "# 2. Low density, high SSA\n",
    "# 3. High density, low SSA\n",
    "# 4. High density, high SSA\n",
    "snowranges = [return_snowpack(A04N, with_ice_lens=True, density_extreme='low', \n",
    "                              ssa_extreme='low',atmosphere=atmosphere,\n",
    "                              flight_temperature_correction='C087'),\n",
    "             return_snowpack(A04N, with_ice_lens=True, density_extreme='low', \n",
    "                             ssa_extreme='high',atmosphere=atmosphere,\n",
    "                             flight_temperature_correction='C087'),\n",
    "             return_snowpack(A04N, with_ice_lens=True, density_extreme='high', \n",
    "                             ssa_extreme='low',atmosphere=atmosphere,\n",
    "                             flight_temperature_correction='C087'),\n",
    "             return_snowpack(A04N, with_ice_lens=True, density_extreme='high', \n",
    "                             ssa_extreme='high',atmosphere=atmosphere,\n",
    "                             flight_temperature_correction='C087')]"
   ]
  },
  {
   "cell_type": "code",
   "execution_count": null,
   "metadata": {},
   "outputs": [],
   "source": [
    "# Run model on list of snowpacks\n",
    "range_res = ibam.run(rad, snowranges)"
   ]
  },
  {
   "cell_type": "code",
   "execution_count": null,
   "metadata": {},
   "outputs": [],
   "source": [
    "# Low\n",
    "tb_results(float(range_res.TbV()[0]), single_frequency=89e9)"
   ]
  },
  {
   "cell_type": "code",
   "execution_count": null,
   "metadata": {},
   "outputs": [],
   "source": [
    "# High\n",
    "tb_results(float(range_res.TbV()[3]), single_frequency=89e9)"
   ]
  },
  {
   "cell_type": "markdown",
   "metadata": {},
   "source": [
    "### Experiment 4: Add surface crust"
   ]
  },
  {
   "cell_type": "code",
   "execution_count": null,
   "metadata": {},
   "outputs": [],
   "source": [
    "surface_snowpack = return_snowpack(A04N, with_ice_lens=True, surface_crust=True,\n",
    "                                   flight_temperature_correction='C087',\n",
    "                                   atmosphere=atmosphere)\n",
    "surface_res = ibam.run(rad, surface_snowpack)"
   ]
  },
  {
   "cell_type": "code",
   "execution_count": null,
   "metadata": {},
   "outputs": [],
   "source": [
    "tb_results(surface_res.TbV(), single_frequency=89e9)"
   ]
  },
  {
   "cell_type": "markdown",
   "metadata": {},
   "source": [
    "### Experiment 5: Variability in depth\n",
    "\n",
    "Equal scaling of layer thicknesses"
   ]
  },
  {
   "cell_type": "code",
   "execution_count": null,
   "metadata": {},
   "outputs": [],
   "source": [
    "# Make list of high depth / low depth snowpacks\n",
    "depth_sensitive = [return_snowpack(A04N, with_ice_lens=True, \n",
    "                                   depth_uncertainty='low',\n",
    "                                   atmosphere=atmosphere,\n",
    "                                   flight_temperature_correction='C087'),\n",
    "                   return_snowpack(A04N, with_ice_lens=True, \n",
    "                                   depth_uncertainty='high',\n",
    "                                   atmosphere=atmosphere,\n",
    "                                   flight_temperature_correction='C087')]"
   ]
  },
  {
   "cell_type": "code",
   "execution_count": null,
   "metadata": {},
   "outputs": [],
   "source": [
    "depth_res = ibam.run(rad, depth_sensitive)"
   ]
  },
  {
   "cell_type": "code",
   "execution_count": null,
   "metadata": {},
   "outputs": [],
   "source": [
    "# Low\n",
    "tb_results(float(depth_res.TbV()[0]), single_frequency=89e9)"
   ]
  },
  {
   "cell_type": "code",
   "execution_count": null,
   "metadata": {},
   "outputs": [],
   "source": [
    "# High\n",
    "tb_results(float(depth_res.TbV()[1]), single_frequency=89e9)"
   ]
  },
  {
   "cell_type": "markdown",
   "metadata": {},
   "source": [
    "### Plot results"
   ]
  },
  {
   "cell_type": "code",
   "execution_count": null,
   "metadata": {},
   "outputs": [],
   "source": [
    "# Everything snowpack - lower limit\n",
    "everything_low=return_snowpack(A04N, with_ice_lens=True, density_extreme='low', ssa_extreme='low', \n",
    "                surface_crust=True, airgap=True, dh_debye=1.2, depth_uncertainty='low',\n",
    "                          flight_temperature_correction='C087',\n",
    "                          atmosphere=atmosphere)\n",
    "\n",
    "everything_low_res = ibam.run(rad, everything_low)"
   ]
  },
  {
   "cell_type": "code",
   "execution_count": null,
   "metadata": {},
   "outputs": [],
   "source": [
    "tb_results(everything_low_res.TbV(), single_frequency=89e9)"
   ]
  },
  {
   "cell_type": "code",
   "execution_count": null,
   "metadata": {},
   "outputs": [],
   "source": [
    "# Everything snowpack: upper limit\n",
    "everything_high=return_snowpack(A04N, with_ice_lens=True, density_extreme='high', ssa_extreme='high', \n",
    "                surface_crust=True, airgap=True, dh_debye=1.2, depth_uncertainty='high',\n",
    "                               flight_temperature_correction='C087',\n",
    "                               atmosphere=atmosphere)\n",
    "\n",
    "everything_high_res = ibam.run(rad, everything_high)"
   ]
  },
  {
   "cell_type": "code",
   "execution_count": null,
   "metadata": {},
   "outputs": [],
   "source": [
    "tb_results(everything_high_res.TbV(), single_frequency=89e9)"
   ]
  },
  {
   "cell_type": "markdown",
   "metadata": {},
   "source": [
    "Base case: DH and extremes"
   ]
  },
  {
   "cell_type": "code",
   "execution_count": null,
   "metadata": {},
   "outputs": [],
   "source": [
    "# Everything snowpack: upper limit\n",
    "base_low=return_snowpack(A04N, with_ice_lens=True, density_extreme='low', \n",
    "                         ssa_extreme='low', \n",
    "                         dh_debye=1.2,\n",
    "                         flight_temperature_correction='C087',\n",
    "                         atmosphere=atmosphere)\n",
    "base_high=return_snowpack(A04N, with_ice_lens=True, density_extreme='high', \n",
    "                         ssa_extreme='high', \n",
    "                         dh_debye=1.2,\n",
    "                         flight_temperature_correction='C087',\n",
    "                         atmosphere=atmosphere)\n",
    "base_low_res = ibam.run(rad, base_low)\n",
    "base_high_res = ibam.run(rad, base_high)"
   ]
  },
  {
   "cell_type": "code",
   "execution_count": null,
   "metadata": {},
   "outputs": [],
   "source": [
    "print (tb_results(base_low_res.TbV(), single_frequency=89e9))\n",
    "print (tb_results(base_high_res.TbV(), single_frequency=89e9))"
   ]
  },
  {
   "cell_type": "markdown",
   "metadata": {},
   "source": [
    "#### Get Observations"
   ]
  },
  {
   "cell_type": "code",
   "execution_count": null,
   "metadata": {},
   "outputs": [],
   "source": [
    "obs_c087 = aesop.get_obs_per_aoi('C087')"
   ]
  },
  {
   "cell_type": "code",
   "execution_count": null,
   "metadata": {},
   "outputs": [],
   "source": [
    "obs = obs_c087.loc['A04'[:3]]['M16-89'][obs_c087.loc['A04'[:3]]['M16-89'].topo_type=='plateau'].TB.values"
   ]
  },
  {
   "cell_type": "code",
   "execution_count": null,
   "metadata": {},
   "outputs": [],
   "source": [
    "# Median\n",
    "np.round(np.quantile(obs,0.5),2)"
   ]
  },
  {
   "cell_type": "code",
   "execution_count": null,
   "metadata": {},
   "outputs": [],
   "source": [
    "# Min\n",
    "np.round(np.min(obs),2)"
   ]
  },
  {
   "cell_type": "code",
   "execution_count": null,
   "metadata": {},
   "outputs": [],
   "source": [
    "# Max\n",
    "np.round(np.max(obs),2)"
   ]
  },
  {
   "cell_type": "code",
   "execution_count": null,
   "metadata": {},
   "outputs": [],
   "source": [
    "# 25%ile\n",
    "np.round(np.quantile(obs,0.25),2)"
   ]
  },
  {
   "cell_type": "code",
   "execution_count": null,
   "metadata": {},
   "outputs": [],
   "source": [
    "# 75%ile\n",
    "np.round(np.quantile(obs,0.75),2)"
   ]
  },
  {
   "cell_type": "code",
   "execution_count": null,
   "metadata": {},
   "outputs": [],
   "source": []
  }
 ],
 "metadata": {
  "kernelspec": {
   "display_name": "Python 3",
   "language": "python",
   "name": "python3"
  },
  "language_info": {
   "codemirror_mode": {
    "name": "ipython",
    "version": 3
   },
   "file_extension": ".py",
   "mimetype": "text/x-python",
   "name": "python",
   "nbconvert_exporter": "python",
   "pygments_lexer": "ipython3",
   "version": "3.8.10"
  }
 },
 "nbformat": 4,
 "nbformat_minor": 4
}

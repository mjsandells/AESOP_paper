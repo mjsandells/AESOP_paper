{
 "cells": [
  {
   "cell_type": "markdown",
   "metadata": {},
   "source": [
    "**Plot topography, pits and observed brightness temperature for each AOI**"
   ]
  },
  {
   "cell_type": "code",
   "execution_count": null,
   "metadata": {
    "slideshow": {
     "slide_type": "skip"
    }
   },
   "outputs": [],
   "source": [
    "import pandas as pd\n",
    "import geopandas as gpd\n",
    "import numpy as np\n",
    "import xarray as xr\n",
    "import math\n",
    "import rasterio\n",
    "from rasterio.plot import show\n",
    "%matplotlib widget\n",
    "import matplotlib.pyplot as plt\n",
    "import matplotlib.colors as colors\n",
    "from matplotlib.colors import ListedColormap\n",
    "from matplotlib.patches import Patch\n",
    "from matplotlib.patches import Rectangle\n",
    "from mpl_toolkits.axes_grid1.anchored_artists import AnchoredSizeBar\n",
    "from rasterstats import gen_point_query\n",
    "from shapely.geometry import Point, Polygon, MultiPolygon\n",
    "from shapely.ops import unary_union"
   ]
  },
  {
   "cell_type": "code",
   "execution_count": null,
   "metadata": {},
   "outputs": [],
   "source": [
    "%load_ext autoreload\n",
    "%aimport aesop\n",
    "%autoreload 1"
   ]
  },
  {
   "cell_type": "markdown",
   "metadata": {
    "slideshow": {
     "slide_type": "skip"
    }
   },
   "source": [
    "Load data:"
   ]
  },
  {
   "cell_type": "code",
   "execution_count": null,
   "metadata": {
    "slideshow": {
     "slide_type": "slide"
    }
   },
   "outputs": [],
   "source": [
    "topography_rast = rasterio.open('../Data/topography/TPIsimple.tif')"
   ]
  },
  {
   "cell_type": "code",
   "execution_count": null,
   "metadata": {
    "slideshow": {
     "slide_type": "slide"
    }
   },
   "outputs": [],
   "source": [
    "pits = aesop.get_pit_topography()"
   ]
  },
  {
   "cell_type": "code",
   "execution_count": null,
   "metadata": {
    "slideshow": {
     "slide_type": "slide"
    }
   },
   "outputs": [],
   "source": [
    "aoi_polygons = aesop.get_aoi_polygons()\n",
    "aoi_polygons = aoi_polygons.to_crs(crs=topography_rast.crs.data)"
   ]
  },
  {
   "cell_type": "code",
   "execution_count": null,
   "metadata": {
    "slideshow": {
     "slide_type": "slide"
    }
   },
   "outputs": [],
   "source": [
    "obs = aesop.get_obs_per_aoi('C087')"
   ]
  },
  {
   "cell_type": "markdown",
   "metadata": {},
   "source": [
    "Get height observations for each AOI to use in calucating the instrument foorprints:"
   ]
  },
  {
   "cell_type": "code",
   "execution_count": null,
   "metadata": {},
   "outputs": [],
   "source": [
    "data = aesop.slf_data('../Data/raw_airborne/metoffice-marss_faam_20180316_r001_c087.nc',0)\n",
    "\n",
    "height_obs = gpd.GeoDataFrame(data.height, geometry=gpd.points_from_xy(data.longitude, data.latitude), columns=['height'],\n",
    "                crs={'init':'epsg:4326'}).dropna().reset_index(drop=True).to_crs(crs=topography_rast.crs.data)\n",
    "\n",
    "height_obs = pd.concat([height_obs.loc[height_obs.geometry.within(polygon)].reset_index(drop=True)\n",
    "                        for polygon in aoi_polygons.geometry], keys=aoi_polygons.index)\n",
    "\n",
    "for aoi, row in height_obs.groupby(level=0):\n",
    "    topo = [t for t in gen_point_query(row.geometry, '../Data/topography/TPIsimple.tif', interpolate='nearest')]\n",
    "\n",
    "    height_obs.loc[aoi, 'topography_id'] = topo\n",
    "    height_obs['topography_name'] = height_obs['topography_id'].map({1.0:'plateau', 2.0:'valley', 3.0:'slopes'})"
   ]
  },
  {
   "cell_type": "code",
   "execution_count": null,
   "metadata": {},
   "outputs": [],
   "source": [
    "def footprint(beamwidth, height):\n",
    "    footprint = 2*(height*math.tan(math.radians(beamwidth)/2))\n",
    "    return footprint"
   ]
  },
  {
   "cell_type": "code",
   "execution_count": null,
   "metadata": {},
   "outputs": [],
   "source": [
    "def buffer(aoi):\n",
    "    ac_height = height_obs.loc[aoi]\n",
    "    FWHM_89 = 11.8\n",
    "    footprint_89 = footprint(FWHM_89, ac_height.height)\n",
    "    \n",
    "    obs_89 = obs['M16-89'].loc[aoi]\n",
    "    obs_89['footprint'] = footprint_89\n",
    "    \n",
    "    # For each point in the observations geometry apply a buffer where the radius is the footprint of the instrument at that point divided by 2.\n",
    "    obs_89['geometry'] = obs_89.apply(\n",
    "        lambda row: row.geometry.buffer(row.footprint/2), axis=1)\n",
    "\n",
    "    buffer = unary_union(obs_89['geometry'])\n",
    "    \n",
    "    return buffer"
   ]
  },
  {
   "cell_type": "markdown",
   "metadata": {},
   "source": [
    "Normalise colours across all observations:"
   ]
  },
  {
   "cell_type": "code",
   "execution_count": null,
   "metadata": {
    "slideshow": {
     "slide_type": "slide"
    }
   },
   "outputs": [],
   "source": [
    "vmin = min([np.nanmin(n) for n in  obs['M16-89'].TB.values])\n",
    "vmax = max([np.nanmax(n) for n in  obs['M16-89'].TB.values])\n",
    "norm = colors.Normalize(vmin=vmin, vmax=vmax)"
   ]
  },
  {
   "cell_type": "code",
   "execution_count": null,
   "metadata": {},
   "outputs": [],
   "source": [
    "# Aspect ratios taken for the largest pit\n",
    "asp_x, asp_y = 2274.7741302622017, 2032.0736330915242\n",
    "asp = asp_x/asp_y"
   ]
  },
  {
   "cell_type": "code",
   "execution_count": null,
   "metadata": {
    "slideshow": {
     "slide_type": "slide"
    }
   },
   "outputs": [],
   "source": [
    "fig, axes = plt.subplots(3,3,figsize=(12,12))#, constrained_layout=True)\n",
    "\n",
    "axes[2,2].remove()\n",
    "\n",
    "channel = 'M16-89'\n",
    "cmap = ListedColormap(['#CD853F', '#FFFF66', '#90EE90', '#3399FF'])\n",
    "\n",
    "for (index, aoi), ax in zip(aoi_polygons.sort_index().iterrows(), axes.flatten()):   \n",
    "    obs_aoi = obs[channel].loc[index]\n",
    "    obs_plot = ax.scatter(obs_aoi.geometry.x, obs_aoi.geometry.y, c=obs_aoi.TB, \n",
    "                          cmap='plasma', norm=norm)\n",
    "    \n",
    "    ax.plot(*aoi.geometry.exterior.xy, color='#0066CC')\n",
    "    aoi_temp = Rectangle([0,0], 1,1, edgecolor='#0066CC', facecolor='none', linewidth=2, \n",
    "                         label='Areas of Interest')\n",
    "\n",
    "    ymin, ymax = ax.get_ylim()\n",
    "    xmin, xmax = ax.get_xlim()\n",
    "    \n",
    "    rasterio.plot.show(topography_rast, ax=ax, cmap=cmap, alpha=0.8, \n",
    "                       label='Topographic index')\n",
    "    pits[pits.index.str.contains(index)].plot(marker='P', c='#33FFFF', edgecolor='k', \n",
    "                                              ax=ax, markersize=140, label='Pits', \n",
    "                                              legend=True)\n",
    "\n",
    "    asp_x_diff = (asp_x-(xmax-xmin))/2\n",
    "    asp_y_diff = (asp_y-(ymax-ymin))/2\n",
    "    \n",
    "    ax.set_xlim(xmin-asp_x_diff, xmax+asp_x_diff)\n",
    "    ax.set_ylim(ymin-asp_y_diff, ymax+asp_y_diff)\n",
    "    \n",
    "    ax.get_xaxis().set_visible(False)\n",
    "    ax.get_yaxis().set_visible(False)\n",
    "    \n",
    "    ax.set_title('AOI'+index[-1], fontsize=16)\n",
    "    \n",
    "    scalebar = AnchoredSizeBar(ax.transData, 1000, '1km', 'lower right',\n",
    "                               pad=0.1, color='black', frameon=False, size_vertical=1,)\n",
    "    ax.add_artist(scalebar)\n",
    "    \n",
    "#     aoi_buffer = buffer(index)\n",
    "#     if isinstance(aoi_buffer, MultiPolygon):\n",
    "#         ax.plot(*aoi_buffer.geoms[0].exterior.xy, c='r', label='Instrument footprint')\n",
    "#         ax.plot(*aoi_buffer.geoms[2].exterior.xy, c='r')\n",
    "#     elif isinstance(aoi_buffer, Polygon):\n",
    "#         ax.plot(*aoi_buffer.exterior.xy, c='r', label='Instrument footprint')\n",
    "    \n",
    "    handles, labels = ax.get_legend_handles_labels()\n",
    "    \n",
    "legend_labels = {'#CD853F': 'Plateau', '#FFFF66': 'Valley', '#90EE90': 'Slopes', '#FFFFFF': '', }\n",
    "\n",
    "patches = [Patch(color=color, label=label)\n",
    "           for color, label in legend_labels.items()]\n",
    "plt.legend(handles=patches+handles+[aoi_temp],\n",
    "          bbox_to_anchor=(1.1, 1.05),\n",
    "          facecolor='white',\n",
    "          edgecolor='white',\n",
    "          title='Topographic index:', fontsize=16)\n",
    "\n",
    "plt.setp(ax.get_legend().get_title(), fontsize='16')\n",
    "\n",
    "cbar_ax = fig.add_axes([0.2, 0.08, 0.6, 0.01])\n",
    "\n",
    "clbr = fig.colorbar(obs_plot, cax=cbar_ax, orientation='horizontal')\n",
    "clbr.ax.set_title('Brightness temperature 89GHz (K)', fontsize=16)\n",
    "clbr.ax.tick_params(labelsize=14) \n",
    "    \n",
    "fig.subplots_adjust(hspace=0.1, wspace=0.1)\n",
    "plt.show()\n",
    "\n",
    "fig.savefig('../Figs/Fig6.png', bbox_inches = 'tight')#, pad_inches = 0)"
   ]
  },
  {
   "cell_type": "markdown",
   "metadata": {},
   "source": [
    "### Adding simulated TB to plots as well as obs:"
   ]
  },
  {
   "cell_type": "code",
   "execution_count": null,
   "metadata": {},
   "outputs": [],
   "source": [
    "smrt_c087 = xr.open_dataset('../Other/smrt_results_atmos/smrt_atmos_tb_C087.nc')\n",
    "smrt_c090 = xr.open_dataset('../Other/smrt_results_atmos/smrt_atmos_tb_C090.nc')"
   ]
  },
  {
   "cell_type": "code",
   "execution_count": null,
   "metadata": {},
   "outputs": [],
   "source": [
    "vmin = min([np.nanmin(n) for n in [obs['M16-89'].TB.values, smrt_c087.sel(channel='M16-89')['base'].values]])\n",
    "vmax = max([np.nanmax(n) for n in [obs['M16-89'].TB.values, smrt_c087.sel(channel='M16-89')['base'].values]])\n",
    "norm_w_smrt = colors.Normalize(vmin=vmin, vmax=vmax)"
   ]
  },
  {
   "cell_type": "code",
   "execution_count": null,
   "metadata": {},
   "outputs": [],
   "source": [
    "channel = 'M16-89'\n",
    "flight = 'C087'\n",
    "smrt = smrt_c087\n",
    "cmap = ListedColormap(['#CD853F', '#FFFF66', '#90EE90', '#3399FF'])\n",
    "\n",
    "for index, aoi in aoi_polygons.iterrows():\n",
    "    fig, ax = plt.subplots(1,figsize=(8,8))\n",
    "\n",
    "    pit_sub = pits[pits.index.str.contains(index)]\n",
    "            \n",
    "    for x, y, label in zip(pit_sub.geometry.x, pit_sub.geometry.y, pit_sub.index):\n",
    "        ax.scatter(x,y,c=smrt.sel(channel=channel, snowpack=label)['base'],\n",
    "                   s=200, cmap='plasma', norm=norm_w_smrt, edgecolor='lightgrey',\n",
    "                   zorder=5, marker='h')\n",
    "\n",
    "    obs_aoi = obs.loc[index][channel]\n",
    "    obs_plot = ax.scatter(obs_aoi.geometry.x, obs_aoi.geometry.y, c=obs_aoi.TB, cmap='plasma', norm=norm_w_smrt)\n",
    "\n",
    "    aoi_buffer = buffer(index)\n",
    "    if isinstance(aoi_buffer, MultiPolygon):\n",
    "        ax.plot(*aoi_buffer.geoms[0].exterior.xy, c='r', label='Instrument footprint')\n",
    "        ax.plot(*aoi_buffer.geoms[2].exterior.xy, c='r')\n",
    "    elif isinstance(aoi_buffer, Polygon):\n",
    "        ax.plot(*aoi_buffer.exterior.xy, c='r', label='Instrument footprint')\n",
    "\n",
    "    ax.plot(*aoi.geometry.exterior.xy, color='#0066CC')\n",
    "    aoi_temp = Rectangle([0,0], 1,1, edgecolor='#0066CC', facecolor='none', linewidth=2, label='Areas of Interest')\n",
    "\n",
    "    ymin, ymax = ax.get_ylim()\n",
    "    xmin, xmax = ax.get_xlim()\n",
    "\n",
    "    rasterio.plot.show(topography_rast, ax=ax, cmap=cmap, alpha=0.6)\n",
    "\n",
    "    pit_sub = pits[pits.index.str.contains(index)]\n",
    "    for x, y, label in zip(pit_sub.geometry.x, pit_sub.geometry.y, pit_sub.index):\n",
    "        ax.annotate(label, xy=(x, y), xytext=(0, 10), textcoords=\"offset points\", fontsize=12, zorder=10)\n",
    "    \n",
    "    asp_x_diff = (asp_x-(xmax-xmin))/2\n",
    "    asp_y_diff = (asp_y-(ymax-ymin))/2\n",
    "    \n",
    "    ax.set_xlim(xmin-asp_x_diff, xmax+asp_x_diff)\n",
    "    ax.set_ylim(ymin-asp_y_diff, ymax+asp_y_diff)\n",
    "\n",
    "    ax.get_xaxis().set_visible(False)\n",
    "    ax.get_yaxis().set_visible(False)\n",
    "\n",
    "    scalebar = AnchoredSizeBar(ax.transData, 500, '500m', 'lower left',\n",
    "                       pad=0.1, color='black', frameon=False, size_vertical=1,)\n",
    "    ax.add_artist(scalebar)\n",
    "\n",
    "    ax.set_title(index, fontsize=14)\n",
    "    \n",
    "    aoi_legend = Rectangle([0,0], 1,1, edgecolor='#0066CC', facecolor='none', linewidth=2, label='Areas of Interest')\n",
    "\n",
    "    handles, labels = ax.get_legend_handles_labels()\n",
    "    legend_labels = {'#CD853F': 'Plateau', '#FFFF66': 'Valley', '#90EE90': 'Slopes', '#FFFFFF': ''}\n",
    "\n",
    "    patches = [Patch(color=color, label=label)\n",
    "               for color, label in legend_labels.items()]\n",
    "\n",
    "    plt.legend(handles=patches+handles+[aoi_legend],\n",
    "          loc='upper left',\n",
    "          facecolor='white',\n",
    "          edgecolor='white',\n",
    "          title='Topographic index:', fontsize=12)\n",
    "\n",
    "    plt.setp(ax.get_legend().get_title(), fontsize='12')\n",
    "\n",
    "    cbar_ax = fig.add_axes([0.5, 0.2, 0.38, 0.01])\n",
    "\n",
    "    clbr = fig.colorbar(obs_plot, cax=cbar_ax, orientation='horizontal')\n",
    "    clbr.ax.set_title('Brightness temperature 89GHz (K)', fontsize=12)\n",
    "    clbr.ax.tick_params(labelsize=12) \n",
    "    \n",
    "    plt.show()"
   ]
  },
  {
   "cell_type": "code",
   "execution_count": null,
   "metadata": {},
   "outputs": [],
   "source": [
    "fig, axes = plt.subplots(3,3,figsize=(12,12))#, constrained_layout=True)\n",
    "\n",
    "axes[2,2].remove()\n",
    "\n",
    "channel = 'M16-89'\n",
    "cmap = ListedColormap(['#CD853F', '#FFFF66', '#90EE90', '#3399FF'])\n",
    "\n",
    "for (index, aoi), ax in zip(aoi_polygons.sort_index().iterrows(), axes.flatten()):  \n",
    "    pit_sub = pits[pits.index.str.contains(index)]\n",
    "    for x, y, label in zip(pit_sub.geometry.x, pit_sub.geometry.y, pit_sub.index):\n",
    "        ax.scatter(x,y,c=smrt.sel(channel=channel, snowpack=label)['base'],\n",
    "                   s=200, cmap='plasma', norm=norm_w_smrt, edgecolor='lightgrey',\n",
    "                   zorder=5, marker='h')\n",
    "\n",
    "    obs_aoi = obs[channel].loc[index]\n",
    "    obs_plot = ax.scatter(obs_aoi.geometry.x, obs_aoi.geometry.y, c=obs_aoi.TB, cmap='plasma', norm=norm_w_smrt)\n",
    "    \n",
    "    ax.plot(*aoi.geometry.exterior.xy, color='#0066CC')\n",
    "    aoi_temp = Rectangle([0,0], 1,1, edgecolor='#0066CC', facecolor='none', linewidth=2, label='Areas of Interest')\n",
    "\n",
    "    ymin, ymax = ax.get_ylim()\n",
    "    xmin, xmax = ax.get_xlim()\n",
    "    \n",
    "    rasterio.plot.show(topography_rast, ax=ax, cmap=cmap, alpha=0.8, label='Topographic index')\n",
    "\n",
    "    asp_x_diff = (asp_x-(xmax-xmin))/2\n",
    "    asp_y_diff = (asp_y-(ymax-ymin))/2\n",
    "    \n",
    "    ax.set_xlim(xmin-asp_x_diff, xmax+asp_x_diff)\n",
    "    ax.set_ylim(ymin-asp_y_diff, ymax+asp_y_diff)\n",
    "    \n",
    "    ax.get_xaxis().set_visible(False)\n",
    "    ax.get_yaxis().set_visible(False)\n",
    "    \n",
    "    ax.set_title(index, fontsize=16)\n",
    "    \n",
    "    scalebar = AnchoredSizeBar(ax.transData, 1000, '1km', 'lower right',\n",
    "                               pad=0.1, color='black', frameon=False, size_vertical=1,)\n",
    "    ax.add_artist(scalebar)\n",
    "    \n",
    "    handles, labels = ax.get_legend_handles_labels()\n",
    "    \n",
    "legend_labels = {'#CD853F': 'Plateau', '#FFFF66': 'Valley', '#90EE90': 'Slopes', '#FFFFFF': '', }\n",
    "\n",
    "patches = [Patch(color=color, label=label)\n",
    "           for color, label in legend_labels.items()]\n",
    "plt.legend(handles=patches+handles+[aoi_temp],\n",
    "          bbox_to_anchor=(1.1, 1.05),\n",
    "          facecolor='white',\n",
    "          edgecolor='white',\n",
    "          title='Topographic index:', fontsize=16)\n",
    "\n",
    "plt.setp(ax.get_legend().get_title(), fontsize='16')\n",
    "\n",
    "cbar_ax = fig.add_axes([0.2, 0.08, 0.6, 0.01])\n",
    "\n",
    "clbr = fig.colorbar(obs_plot, cax=cbar_ax, orientation='horizontal')\n",
    "clbr.ax.set_title('Brightness temperature 89GHz (K)', fontsize=16)\n",
    "clbr.ax.tick_params(labelsize=14) \n",
    "    \n",
    "fig.subplots_adjust(hspace=0.1, wspace=0.1)\n",
    "# fig.tight_layout()\n",
    "plt.show()"
   ]
  },
  {
   "cell_type": "code",
   "execution_count": null,
   "metadata": {},
   "outputs": [],
   "source": []
  }
 ],
 "metadata": {
  "kernelspec": {
   "display_name": "aesop",
   "language": "python",
   "name": "aesop"
  },
  "language_info": {
   "codemirror_mode": {
    "name": "ipython",
    "version": 3
   },
   "file_extension": ".py",
   "mimetype": "text/x-python",
   "name": "python",
   "nbconvert_exporter": "python",
   "pygments_lexer": "ipython3",
   "version": "3.8.10"
  }
 },
 "nbformat": 4,
 "nbformat_minor": 4
}

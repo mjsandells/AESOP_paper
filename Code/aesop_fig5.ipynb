{
 "cells": [
  {
   "cell_type": "markdown",
   "metadata": {},
   "source": [
    "## Plot airborne data vs ground based observations"
   ]
  },
  {
   "cell_type": "code",
   "execution_count": null,
   "metadata": {},
   "outputs": [],
   "source": [
    "import numpy as np\n",
    "import xarray as xr\n",
    "import pandas as pd\n",
    "%matplotlib widget\n",
    "import matplotlib.pyplot as plt\n",
    "from mpl_toolkits.axes_grid1.inset_locator import zoomed_inset_axes\n",
    "from mpl_toolkits.axes_grid1.inset_locator import mark_inset"
   ]
  },
  {
   "cell_type": "code",
   "execution_count": null,
   "metadata": {},
   "outputs": [],
   "source": [
    "%load_ext autoreload\n",
    "%aimport aesop\n",
    "%aimport run_smrt_with_realistic_atmosphere\n",
    "%autoreload 1"
   ]
  },
  {
   "cell_type": "markdown",
   "metadata": {},
   "source": [
    "Load pits:"
   ]
  },
  {
   "cell_type": "code",
   "execution_count": null,
   "metadata": {},
   "outputs": [],
   "source": [
    "pits = aesop.get_pit_topography()"
   ]
  },
  {
   "cell_type": "markdown",
   "metadata": {},
   "source": [
    "Load ground data corrected for the atmosphere:"
   ]
  },
  {
   "cell_type": "code",
   "execution_count": null,
   "metadata": {},
   "outputs": [],
   "source": [
    "sbr = pd.read_csv('../Data/ground_obs/more89forMel.csv')"
   ]
  },
  {
   "cell_type": "code",
   "execution_count": null,
   "metadata": {},
   "outputs": [],
   "source": [
    "tb89v0 = run_smrt_with_realistic_atmosphere.ground_based_data_corrected(sbr, '89V0', pits)"
   ]
  },
  {
   "cell_type": "markdown",
   "metadata": {},
   "source": [
    "Load airborne observations of the relevant surface type for each pit:"
   ]
  },
  {
   "cell_type": "code",
   "execution_count": null,
   "metadata": {},
   "outputs": [],
   "source": [
    "obs_c087 = aesop.get_obs_per_aoi('C087')\n",
    "obs_c090 = aesop.get_obs_per_aoi('C090')"
   ]
  },
  {
   "cell_type": "code",
   "execution_count": null,
   "metadata": {},
   "outputs": [],
   "source": [
    "channel = 'M16-89'\n",
    "tb_obs = []\n",
    "for p in pits.index:\n",
    "    topo = pits.loc[p].topo_type\n",
    "    if p == 'MetS':\n",
    "        p = 'A04'\n",
    "    pit_obs_c087, pit_obs_c090 = obs_c087.loc[p[:3]][channel], obs_c090.loc[p[:3]][channel]\n",
    "    tb_obs.append(np.concatenate([(pit_obs_c087[pit_obs_c087.topo_type==topo].TB),\n",
    "                                  (pit_obs_c090[pit_obs_c090.topo_type==topo].TB)]))"
   ]
  },
  {
   "cell_type": "markdown",
   "metadata": {},
   "source": [
    "Get median, errmin and errmax for airborne observations:"
   ]
  },
  {
   "cell_type": "code",
   "execution_count": null,
   "metadata": {},
   "outputs": [],
   "source": [
    "def extract_box_plot_info(tb):\n",
    "    percentile = []\n",
    "    for p, data in enumerate(tb):\n",
    "        qu1, qu2, qu3 = np.percentile(data,q=[25,50,75])\n",
    "        errmin = qu2 - qu1\n",
    "        errmax = qu3 - qu2\n",
    "        percentile.append([errmin, qu2, errmax])\n",
    "    return np.asarray(percentile)"
   ]
  },
  {
   "cell_type": "code",
   "execution_count": null,
   "metadata": {},
   "outputs": [],
   "source": [
    "airborne_89v0 = extract_box_plot_info(tb_obs)"
   ]
  },
  {
   "cell_type": "markdown",
   "metadata": {},
   "source": [
    "Plot airborne vs ground based observations at nadir:"
   ]
  },
  {
   "cell_type": "code",
   "execution_count": null,
   "metadata": {},
   "outputs": [],
   "source": [
    "plt.close()\n",
    "fig, ax = plt.subplots(figsize=(6,6))\n",
    "\n",
    "ax.errorbar(tb89v0[:,0], airborne_89v0[:,1],\n",
    "             xerr=[tb89v0[:,1],tb89v0[:,2]], yerr=[airborne_89v0[:,0],airborne_89v0[:,2]],\n",
    "             fmt='o', label='89V0', color='b', alpha=0.6)\n",
    "\n",
    "axins = zoomed_inset_axes(ax, 2, loc=2) # zoom = 6\n",
    "axins.plot(tb89v0[:,0], airborne_89v0[:,1], 'bo', alpha=0.6)\n",
    "axins.set_xlim(175, 205) # Limit the region for zoom\n",
    "axins.set_ylim(175, 187)\n",
    "\n",
    "axins.set_xticks([])  # Not present ticks\n",
    "axins.set_yticks([])\n",
    "#\n",
    "## draw a bbox of the region of the inset axes in the parent axes and\n",
    "## connecting lines between the bbox and the inset axes area\n",
    "mark_inset(ax, axins, loc1=3, loc2=4, fc=\"none\", ec=\"0.5\", alpha=0.2)    \n",
    "    \n",
    "    \n",
    "for label, x, y in zip(pits.index, tb89v0[:,0], airborne_89v0[:,1]):\n",
    "    if label in ['A05W', 'A03W']:\n",
    "        ax.annotate(label, xy=(x, y), xytext=(3, 3), textcoords=\"offset points\")\n",
    "    else:\n",
    "        axins.annotate(label, xy=(x, y), xytext=(3, 3), textcoords=\"offset points\")\n",
    "    \n",
    "ax.plot(np.arange(140, 260, 10), np.arange(140, 260, 10), 'k--', alpha=0.2)\n",
    "ax.set_aspect('equal', adjustable='box')\n",
    "ax.set_xlim(160, 250)\n",
    "ax.set_ylim(160, 250)\n",
    "ax.tick_params(axis='x')\n",
    "ax.tick_params(axis='y')\n",
    "#plt.legend()\n",
    "#plt.title('Flight vs SBR @89GHz')\n",
    "ax.set_xlabel('Ground Observed TB [K]')\n",
    "ax.set_ylabel('Airborne Observed TB [K]')\n",
    "fig.canvas.width = '600px'\n",
    "fig.canvas.height = '600px'"
   ]
  },
  {
   "cell_type": "code",
   "execution_count": null,
   "metadata": {},
   "outputs": [],
   "source": [
    "from scipy.stats import linregress"
   ]
  },
  {
   "cell_type": "code",
   "execution_count": null,
   "metadata": {},
   "outputs": [],
   "source": [
    "x = tb89v0[:,0]\n",
    "y = airborne_89v0[:,1]\n",
    "mask = ~np.isnan(x)\n",
    "\n",
    "slope, intercept, r_value, p_value, std_err = linregress(x[mask], y[mask])\n",
    "print ('r^2: ',r_value**2)\n",
    "print ('ME: ', np.sum(y[mask]-x[mask]) / len(y[mask]))\n",
    "print ('rmse: ', np.sqrt(np.sum((y[mask]-x[mask])**2) / len(y[mask])))"
   ]
  },
  {
   "cell_type": "markdown",
   "metadata": {},
   "source": [
    "### Plot airborne vs ground based data at 50/55 deg:"
   ]
  },
  {
   "cell_type": "markdown",
   "metadata": {},
   "source": [
    "At nadir using observations within the relevant AOI for the surface type of each pit. \n",
    "\n",
    "For most runs instruments remained at nadir over the AOIS and so for observations at 50deg take obs within 250m of the pits - most of this data is actually from C090 run 3 where instruments were forward viewing (50deg) over the AOIs."
   ]
  },
  {
   "cell_type": "markdown",
   "metadata": {},
   "source": [
    "Load airborne data at 50deg:"
   ]
  },
  {
   "cell_type": "code",
   "execution_count": null,
   "metadata": {},
   "outputs": [],
   "source": [
    "c087_marss = '../Data/raw_airborne/metoffice-marss_faam_20180316_r001_c087.nc'\n",
    "c090_marss = '../Data/raw_airborne/metoffice-marss_faam_20180320_r001_c090.nc'\n",
    "datafiles = [c087_marss, c090_marss]"
   ]
  },
  {
   "cell_type": "code",
   "execution_count": null,
   "metadata": {},
   "outputs": [],
   "source": [
    "def subset_data(datafiles, theta):\n",
    "    for f, file in enumerate(datafiles):\n",
    "        data = xr.open_dataset(file)\n",
    "        if f == 0:\n",
    "            subset = data.where((data.sensor_view_angle > theta-5) & \n",
    "                                    (data.sensor_view_angle<theta+5), drop=True)\n",
    "        else:\n",
    "            subset = xr.concat([subset, data.where((data.sensor_view_angle > theta-5) & \n",
    "                                    (data.sensor_view_angle<theta+5), drop=True)], dim='time')\n",
    "    return subset.dropna(dim='time')"
   ]
  },
  {
   "cell_type": "code",
   "execution_count": null,
   "metadata": {},
   "outputs": [],
   "source": [
    "subset50 = subset_data(datafiles, 50)"
   ]
  },
  {
   "cell_type": "markdown",
   "metadata": {},
   "source": [
    "Get data within 250m of pits:"
   ]
  },
  {
   "cell_type": "code",
   "execution_count": null,
   "metadata": {},
   "outputs": [],
   "source": [
    "pits_aesop = aesop.get_pits()\n",
    "pits_aesop = pits_aesop[~pits_aesop.index.str.contains('A1')]\n",
    "\n",
    "tb_obs_50 = aesop.find_flights_near_pits(subset50, 0, pits_aesop, 0.25)"
   ]
  },
  {
   "cell_type": "markdown",
   "metadata": {},
   "source": [
    "Get median, errmin and errmax for airborne observations:"
   ]
  },
  {
   "cell_type": "code",
   "execution_count": null,
   "metadata": {},
   "outputs": [],
   "source": [
    "airborne_89v50 = extract_box_plot_info(tb_obs_50)"
   ]
  },
  {
   "cell_type": "markdown",
   "metadata": {},
   "source": [
    "Calculate TB for both polarisations at 50 deg:  \n",
    "H * cos^2 (pol angle) + V * sin^2 (pol angle)"
   ]
  },
  {
   "cell_type": "code",
   "execution_count": null,
   "metadata": {},
   "outputs": [],
   "source": [
    "def extract_flight_data_for_pit(subset, pit, chan):\n",
    "    TB = []\n",
    "    for fl in pit:\n",
    "        TB.append([subset.sel(time=fl, channel=subset.channel[chan]).brightness_temperature.values,\n",
    "              subset.sel(time=fl).bs_latitude.values, subset.sel(time=fl).bs_longitude.values,\n",
    "                  subset.sel(time=fl, channel=subset.channel[chan]).detected_polarisation])\n",
    "    return np.vstack(TB)\n",
    "\n",
    "def get_pol_angle(subset, channel):\n",
    "    pits = pits_aesop\n",
    "    nearpits = []\n",
    "    for p in range(len(pits)):\n",
    "        pit_distance = aesop.distance(subset.bs_latitude.astype('float64'), subset.bs_longitude.astype('float64'), pits.lat.values[p], pits.long.values[p])\n",
    "        nearpits.append(pit_distance[pit_distance<0.25].time.values)\n",
    "    \n",
    "    pol_angle = []\n",
    "    for pit in nearpits:\n",
    "        try:\n",
    "\n",
    "            pol_angle.append(extract_flight_data_for_pit(subset, pit, channel)[:,3])\n",
    "        except:\n",
    "            pol_angle.append(np.nan)\n",
    "    \n",
    "    return pol_angle"
   ]
  },
  {
   "cell_type": "code",
   "execution_count": null,
   "metadata": {},
   "outputs": [],
   "source": [
    "pol_angle = get_pol_angle(subset50, channel=0)"
   ]
  },
  {
   "cell_type": "code",
   "execution_count": null,
   "metadata": {},
   "outputs": [],
   "source": [
    "tb89v55 = run_smrt_with_realistic_atmosphere.ground_based_data_corrected(sbr, '89V55', pits)\n",
    "tb89h55 = run_smrt_with_realistic_atmosphere.ground_based_data_corrected(sbr, '89H55', pits)"
   ]
  },
  {
   "cell_type": "code",
   "execution_count": null,
   "metadata": {},
   "outputs": [],
   "source": [
    "# Median polarisation angle by pit\n",
    "pol = extract_box_plot_info(pol_angle)[:,1]\n",
    "# 0th value in tb89h55 array is mean\n",
    "tb55 = tb89h55[:,0] * (np.cos(np.radians(pol)))**2 + tb89v55[:,0] * (np.sin(np.radians(pol)))**2"
   ]
  },
  {
   "cell_type": "markdown",
   "metadata": {},
   "source": [
    "Plot airborne vs ground based observations at nadir and 50/55 deg:"
   ]
  },
  {
   "cell_type": "code",
   "execution_count": null,
   "metadata": {},
   "outputs": [],
   "source": [
    "fig = plt.figure(figsize=(8,6))\n",
    "\n",
    "plt.errorbar(tb89v0[:,0], airborne_89v0[:,1],\n",
    "             xerr=[tb89v0[:,1],tb89v0[:,2]], yerr=[airborne_89v0[:,0],airborne_89v0[:,2]],\n",
    "             fmt='o', label='89V0', color='b', alpha=0.6)\n",
    "\n",
    "plt.errorbar(tb55, airborne_89v50[:,1],\n",
    "             xerr=[tb89v55[:,1],tb89v55[:,2]], yerr=[airborne_89v50[:,0],airborne_89v50[:,2]],\n",
    "             fmt='o', label='89V55', color='k', alpha=0.6)\n",
    "\n",
    "plt.plot(np.arange(140, 260, 10), np.arange(140, 260, 10), 'k--', alpha=0.2)\n",
    "plt.xlim(150, 250)\n",
    "plt.ylim(150, 250)\n",
    "plt.legend()\n",
    "plt.title('Flight vs SBR @89GHz')\n",
    "plt.xlabel('Ground Observed TB [K]')\n",
    "plt.ylabel('Airborne Observed TB [K]')"
   ]
  },
  {
   "cell_type": "code",
   "execution_count": null,
   "metadata": {},
   "outputs": [],
   "source": []
  }
 ],
 "metadata": {
  "kernelspec": {
   "display_name": "aesop",
   "language": "python",
   "name": "aesop"
  },
  "language_info": {
   "codemirror_mode": {
    "name": "ipython",
    "version": 3
   },
   "file_extension": ".py",
   "mimetype": "text/x-python",
   "name": "python",
   "nbconvert_exporter": "python",
   "pygments_lexer": "ipython3",
   "version": "3.8.10"
  }
 },
 "nbformat": 4,
 "nbformat_minor": 4
}

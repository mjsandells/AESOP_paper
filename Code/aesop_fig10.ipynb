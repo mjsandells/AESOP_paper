{
 "cells": [
  {
   "cell_type": "markdown",
   "metadata": {},
   "source": [
    "### Histogram of observations and SMRT simulations with and without atmosphere for C087 and C090, high, low and base simulations:"
   ]
  },
  {
   "cell_type": "code",
   "execution_count": null,
   "metadata": {},
   "outputs": [],
   "source": [
    "import pandas as pd\n",
    "import xarray as xr\n",
    "import numpy as np\n",
    "%matplotlib widget\n",
    "import matplotlib.pyplot as plt\n",
    "import matplotlib.ticker as ticker\n",
    "from matplotlib.patches import Patch"
   ]
  },
  {
   "cell_type": "code",
   "execution_count": null,
   "metadata": {},
   "outputs": [],
   "source": [
    "%load_ext autoreload\n",
    "%aimport aesop\n",
    "%autoreload 1"
   ]
  },
  {
   "cell_type": "markdown",
   "metadata": {},
   "source": [
    "Load observations:"
   ]
  },
  {
   "cell_type": "code",
   "execution_count": null,
   "metadata": {},
   "outputs": [],
   "source": [
    "obs_c087 = aesop.get_obs_per_aoi('C087')\n",
    "obs_c090 = aesop.get_obs_per_aoi('C090')"
   ]
  },
  {
   "cell_type": "markdown",
   "metadata": {},
   "source": [
    "Load SMRT results without atmosphere:"
   ]
  },
  {
   "cell_type": "code",
   "execution_count": null,
   "metadata": {},
   "outputs": [],
   "source": [
    "# UNCOMMENT TO GENERATE RESULTS\n",
    "#from run_smrt_with_realistic_atmosphere import run_smrt_with_atmosphere, tb_results\n",
    "#res_no_atmos = run_smrt_with_atmosphere('C087', extremes=True, skip_atmos=True)\n",
    "#tb_results(res_no_atmos, save=True, filename='../Other/smrt_results_atmos/smrt_tb_no_atmosphere.nc')"
   ]
  },
  {
   "cell_type": "markdown",
   "metadata": {},
   "source": [
    "Load SMRT results without atmosphere:\n"
   ]
  },
  {
   "cell_type": "code",
   "execution_count": null,
   "metadata": {},
   "outputs": [],
   "source": [
    "smrt_no_atmos = xr.open_dataset('../Other/smrt_results_atmos/smrt_tb_no_atmosphere.nc')"
   ]
  },
  {
   "cell_type": "markdown",
   "metadata": {
    "tags": []
   },
   "source": [
    "Load SMRT results with atmosphere:"
   ]
  },
  {
   "cell_type": "code",
   "execution_count": null,
   "metadata": {},
   "outputs": [],
   "source": [
    "smrt_c087 = xr.open_dataset('../Other/smrt_results_atmos/smrt_atmos_tb_C087.nc')\n",
    "smrt_c090 = xr.open_dataset('../Other/smrt_results_atmos/smrt_atmos_tb_C090.nc')"
   ]
  },
  {
   "cell_type": "markdown",
   "metadata": {},
   "source": [
    "Load pits with topography:"
   ]
  },
  {
   "cell_type": "code",
   "execution_count": null,
   "metadata": {},
   "outputs": [],
   "source": [
    "pits = aesop.get_pit_topography()"
   ]
  },
  {
   "cell_type": "code",
   "execution_count": null,
   "metadata": {},
   "outputs": [],
   "source": [
    "def set_title(ax, channel):\n",
    "    if channel in ['M16-89', 'M17-157']:\n",
    "        ax.set_title(channel[4:]+' GHz')\n",
    "    elif channel == '118+5.0':\n",
    "        ax.set_title('118$\\pm$5.0 GHz')\n",
    "    elif channel == 'M20-183+7':\n",
    "        ax.set_title('183$\\pm$7 GHz')\n",
    "    elif channel == '243':\n",
    "        ax.set_title('243 GHz')"
   ]
  },
  {
   "cell_type": "code",
   "execution_count": null,
   "metadata": {},
   "outputs": [],
   "source": [
    "plt.rcParams.update({'font.size': 14})\n",
    "\n",
    "fig, axes = plt.subplots(1,5, figsize=(16,6))\n",
    "\n",
    "for ax, channel in zip(axes.flatten(), ['M16-89', '118+5.0', 'M17-157', 'M20-183+7', '243']):\n",
    "    \n",
    "    tb_all = obs_c087[channel].dropna().TB.values # Unhash these lines to only use data for C087.\n",
    "    smrt_all = np.concatenate([smrt_c087.sel(channel=channel)['base'].values,\n",
    "                               smrt_c087.sel(channel=channel)['high'].values,\n",
    "                               smrt_c087.sel(channel=channel)['low'].values])\n",
    "    smrt_all_no_atmos = np.concatenate([smrt_no_atmos.sel(channel=channel)['base'].values,\n",
    "                                        smrt_no_atmos.sel(channel=channel)['high'].values,\n",
    "                                        smrt_no_atmos.sel(channel=channel)['low'].values])\n",
    "    \n",
    "    ax.hist(tb_all, histtype='step', stacked=True, fill=True, alpha=0.4, density=True, linewidth=1.2, color='#FF9933', label='Observations')\n",
    "    ax.hist(smrt_all_no_atmos[~np.isnan(smrt_all_no_atmos)], histtype='step', stacked=True, fill=True, alpha=0.3, density=True, linewidth=1.2, color='#0080FF', label='SMRT no atmosphere')\n",
    "    ax.hist(smrt_all[~np.isnan(smrt_all)], histtype='step', stacked=True, fill=True, alpha=0.3, density=True, linewidth=1.2, color='m', label='SMRT atmosphere')\n",
    "    \n",
    "    # Plot histogram median lines\n",
    "    ax.axvline(np.quantile(tb_all,0.5), color='k', linestyle='dashed', linewidth=1, alpha=0.4)\n",
    "    ax.axvline(np.quantile(smrt_all_no_atmos[~np.isnan(smrt_all_no_atmos)],0.5), color='b', linestyle='dashed', linewidth=1, alpha=0.4)\n",
    "    ax.axvline(np.quantile(smrt_all[~np.isnan(smrt_all)],0.5), color='r', linestyle='dashed', linewidth=1, alpha=0.4)\n",
    "   \n",
    "    print(np.quantile(tb_all,0.5),np.quantile(smrt_all_no_atmos[~np.isnan(smrt_all_no_atmos)],0.5),np.quantile(smrt_all[~np.isnan(smrt_all)],0.5))\n",
    "    \n",
    "    ax.set_xlabel('TB (K)')\n",
    "    \n",
    "    set_title(ax, channel)\n",
    "\n",
    "legend_labels = {'#FF9933': 'Observations', '#0080FF': 'SMRT no atmosphere', 'magenta': 'SMRT atmosphere'}\n",
    "\n",
    "patches = [Patch(color=color, label=label, alpha=0.3)\n",
    "           for color, label in legend_labels.items()]\n",
    "\n",
    "axes[3].legend(handles=patches,\n",
    "          bbox_to_anchor=(1.1, 1.16),\n",
    "          facecolor='white', ncol=3)\n",
    "\n",
    "axes[0].set_ylabel('Normalized frequency * 100')\n",
    "tick_spacing = 50\n",
    "\n",
    "for ax in axes:\n",
    "    ax.set_xlim([100,260])\n",
    "    # after plotting the data, format the labels\n",
    "    current_values = ax.get_yticks()\n",
    "    # Multiply by 100\n",
    "    new_values = np.round(current_values * 1e2,2)\n",
    "    # using format string '{:.0f}' here but you can choose others\n",
    "    ax.set_yticklabels([y for y in new_values])\n",
    "    #ax.ticklabel_format(axis='y', scilimits=[0, 0])\n",
    "    ax.xaxis.set_major_locator(ticker.MultipleLocator(tick_spacing))\n",
    "fig.subplots_adjust(hspace=1.0)\n",
    "\n",
    "#fig.savefig('../Figs/Fig10.png', bbox_inches = 'tight', format='png')#, pad_inches = 0)\n",
    "\n",
    "\n",
    "plt.show()\n"
   ]
  },
  {
   "cell_type": "code",
   "execution_count": null,
   "metadata": {},
   "outputs": [],
   "source": [
    "np.quantile(tb_all,0.5)"
   ]
  },
  {
   "cell_type": "code",
   "execution_count": null,
   "metadata": {},
   "outputs": [],
   "source": [
    "np.quantile(smrt_all_no_atmos[~np.isnan(smrt_all_no_atmos)],0.5)"
   ]
  },
  {
   "cell_type": "code",
   "execution_count": null,
   "metadata": {},
   "outputs": [],
   "source": [
    "np.quantile(smrt_all[~np.isnan(smrt_all)],0.5)"
   ]
  },
  {
   "cell_type": "code",
   "execution_count": null,
   "metadata": {},
   "outputs": [],
   "source": []
  }
 ],
 "metadata": {
  "kernelspec": {
   "display_name": "Python 3",
   "language": "python",
   "name": "python3"
  },
  "language_info": {
   "codemirror_mode": {
    "name": "ipython",
    "version": 3
   },
   "file_extension": ".py",
   "mimetype": "text/x-python",
   "name": "python",
   "nbconvert_exporter": "python",
   "pygments_lexer": "ipython3",
   "version": "3.8.10"
  }
 },
 "nbformat": 4,
 "nbformat_minor": 4
}

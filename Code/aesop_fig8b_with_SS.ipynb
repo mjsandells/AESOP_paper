{
 "cells": [
  {
   "cell_type": "markdown",
   "metadata": {},
   "source": [
    "### **Comparing range of observations and SMRT simulations with no atmosphere for the three main topography types**"
   ]
  },
  {
   "cell_type": "code",
   "execution_count": null,
   "metadata": {},
   "outputs": [],
   "source": [
    "import pandas as pd\n",
    "import xarray as xr\n",
    "import numpy as np\n",
    "%matplotlib widget\n",
    "import matplotlib.pyplot as plt\n",
    "import matplotlib.patches as mpatches\n",
    "import matplotlib.colors as colors\n",
    "from matplotlib.ticker import AutoMinorLocator\n",
    "from mpl_toolkits.axes_grid1.inset_locator import inset_axes"
   ]
  },
  {
   "cell_type": "code",
   "execution_count": null,
   "metadata": {},
   "outputs": [],
   "source": [
    "%load_ext autoreload\n",
    "%aimport aesop\n",
    "%autoreload 1"
   ]
  },
  {
   "cell_type": "markdown",
   "metadata": {},
   "source": [
    "Load observations:"
   ]
  },
  {
   "cell_type": "code",
   "execution_count": null,
   "metadata": {},
   "outputs": [],
   "source": [
    "obs_c087 = aesop.get_obs_per_aoi('C087')\n",
    "obs_c090 = aesop.get_obs_per_aoi('C090')"
   ]
  },
  {
   "cell_type": "markdown",
   "metadata": {},
   "source": [
    "Generate new results with surface snow"
   ]
  },
  {
   "cell_type": "code",
   "execution_count": null,
   "metadata": {},
   "outputs": [],
   "source": [
    "# UNCOMMENT TO RUN SIMULATIONS\n",
    "\n",
    "# from run_smrt_with_realistic_atmosphere import run_smrt_with_atmosphere, tb_results\n",
    "# res_with_SS = run_smrt_with_atmosphere('C090', extremes=True, fresh_snow=40)\n",
    "# tb_results(res_with_SS, save=True, filename='../Other/smrt_results_atmos/smrt_atmos_tb_C090_with_SS.nc')"
   ]
  },
  {
   "cell_type": "markdown",
   "metadata": {},
   "source": [
    "Load SMRT results with atmosphere:"
   ]
  },
  {
   "cell_type": "code",
   "execution_count": null,
   "metadata": {},
   "outputs": [],
   "source": [
    "smrt_c087 = xr.open_dataset('../Other/smrt_results_atmos/smrt_atmos_tb_C087.nc')\n",
    "smrt_c090 = xr.open_dataset('../Other/smrt_results_atmos/smrt_atmos_tb_C090.nc')\n",
    "smrt_c090_SS = xr.open_dataset('../Other/smrt_results_atmos/smrt_atmos_tb_C090_with_SS.nc')"
   ]
  },
  {
   "cell_type": "markdown",
   "metadata": {},
   "source": [
    "Load pits with topography:"
   ]
  },
  {
   "cell_type": "code",
   "execution_count": null,
   "metadata": {},
   "outputs": [],
   "source": [
    "pits = aesop.get_pit_topography()"
   ]
  },
  {
   "cell_type": "code",
   "execution_count": null,
   "metadata": {},
   "outputs": [],
   "source": [
    "def set_title(ax, channel):\n",
    "    if channel in ['M16-89', 'M17-157']:\n",
    "        ax.set_title(channel[4:]+' GHz')\n",
    "    elif channel == '118+5.0':\n",
    "        ax.set_title('118$\\pm$5.0 GHz')\n",
    "    elif channel == 'M20-183+7':\n",
    "        ax.set_title('183$\\pm$7 GHz')\n",
    "    elif channel == '243':\n",
    "        ax.set_title('243 GHz')"
   ]
  },
  {
   "cell_type": "code",
   "execution_count": null,
   "metadata": {},
   "outputs": [],
   "source": [
    "def group_topography(flight_obs, smrt):\n",
    "    sims = {}\n",
    "    obs = {}\n",
    "    for (topog, group) in pits.groupby('topo_type'):\n",
    "        topo_pits = group.index\n",
    "        grouped_obs = {}\n",
    "        grouped_sims = {}\n",
    "\n",
    "        for channel in smrt_c087.channel.values:\n",
    "            grouped_obs.update({channel: \n",
    "                                flight_obs[channel][flight_obs[channel].topo_type==topog].TB.values})\n",
    "            grouped_sims.update({channel:\n",
    "                               [stat(smrt.sel(snowpack=topo_pits, channel=channel)[sim].values)\n",
    "                                for stat, sim in zip([np.nanmean, np.nanmax, np.nanmin],\n",
    "                                                     ['base','high','low'])]})\n",
    "        obs.update({topog: grouped_obs})\n",
    "        sims.update({topog: grouped_sims})    \n",
    "    return obs, sims"
   ]
  },
  {
   "cell_type": "code",
   "execution_count": null,
   "metadata": {},
   "outputs": [],
   "source": [
    "plt.rcParams.update({'font.size': 14})\n",
    "\n",
    "fig, axes = plt.subplots(2,5, figsize=(16,8), sharey=True)\n",
    "\n",
    "for channel, ax in zip(['M16-89','118+5.0','M17-157','M20-183+7','243'], axes[0,:]):\n",
    "    \n",
    "    positions = range(0,3)\n",
    "\n",
    "    obs_87, sims_87 = group_topography(obs_c087, smrt_c087)\n",
    "    o = [obs_87.get(topo).get(channel) for topo in obs_87.keys()]\n",
    "    ax.boxplot(o, positions=positions, showfliers=False)\n",
    "\n",
    "    base = np.array([sims_87.get(topo).get(channel)[0] for topo in sims_87.keys()])\n",
    "    high = np.array([sims_87.get(topo).get(channel)[1] for topo in sims_87.keys()])\n",
    "    low = np.array([sims_87.get(topo).get(channel)[2] for topo in sims_87.keys()])\n",
    "\n",
    "    ax.errorbar(sims_87.keys(), base, yerr=[base-low, high-base],fmt='H',\n",
    "                color='b', label='SMRT Sims', capsize=0, markeredgecolor='k',ecolor='dodgerblue',\n",
    "                elinewidth=3)\n",
    "\n",
    "    ax.set_xticklabels(obs_87.keys())\n",
    "    set_title(ax, channel)\n",
    "    ax.set_ylim([120,260])\n",
    "\n",
    "axes[0,0].set_ylabel('TB (K) C087')\n",
    "\n",
    "for channel, ax in zip(['M16-89','118+5.0','M17-157','M20-183+7','243'], axes[1,:]):\n",
    "    \n",
    "    positions = range(0,3)\n",
    "\n",
    "    obs_90, sims_90SS = group_topography(obs_c090, smrt_c090_SS)\n",
    "    o = [obs_90.get(topo).get(channel) for topo in obs_90.keys()]\n",
    "\n",
    "    ax.boxplot(o, positions=positions, showfliers=False)\n",
    "\n",
    "    base = np.array([sims_90SS.get(topo).get(channel)[0] for topo in sims_90SS.keys()])\n",
    "    high = np.array([sims_90SS.get(topo).get(channel)[1] for topo in sims_90SS.keys()])\n",
    "    low = np.array([sims_90SS.get(topo).get(channel)[2] for topo in sims_90SS.keys()])\n",
    "\n",
    "    ax.errorbar(sims_90SS.keys(), base, yerr=[base-low, high-base],fmt='H',\n",
    "                color='b', label='SMRT Sims', capsize=0, markeredgecolor='k',ecolor='dodgerblue',\n",
    "                elinewidth=3)\n",
    "\n",
    "    ax.set_xticklabels(obs_90.keys())\n",
    "    ax.set_ylim([120,260])\n",
    "    \n",
    "axes[1,0].set_ylabel('TB (K) C090')\n",
    "for x in range(5):\n",
    "    axes[0,x].set_xticklabels([])\n",
    "plt.show()\n",
    "\n",
    "#fig.savefig('../Figs/Fig8_SS.png', bbox_inches = 'tight')#, pad_inches = 0)"
   ]
  },
  {
   "cell_type": "code",
   "execution_count": null,
   "metadata": {},
   "outputs": [],
   "source": [
    "for k in obs_87['plateau'].keys():\n",
    "    print(k, np.median(obs_87['slopes'][k]), np.median(obs_87['valley'][k]), np.median(obs_87['plateau'][k]))"
   ]
  },
  {
   "cell_type": "code",
   "execution_count": null,
   "metadata": {},
   "outputs": [],
   "source": [
    "for k in obs_90['plateau'].keys():\n",
    "    print(k, np.median(obs_90['slopes'][k]), np.median(obs_90['valley'][k]), np.median(obs_90['plateau'][k]))"
   ]
  },
  {
   "cell_type": "code",
   "execution_count": null,
   "metadata": {},
   "outputs": [],
   "source": [
    "for k in sims_87['plateau'].keys():\n",
    "    print(k, np.median(sims_87['slopes'][k]), np.median(sims_87['valley'][k]), np.median(sims_87['plateau'][k]))"
   ]
  },
  {
   "cell_type": "code",
   "execution_count": null,
   "metadata": {},
   "outputs": [],
   "source": [
    "for k in sims_90SS['plateau'].keys():\n",
    "    print(k, np.median(sims_90SS['slopes'][k]), np.median(sims_90SS['valley'][k]), np.median(sims_90SS['plateau'][k]))"
   ]
  },
  {
   "cell_type": "code",
   "execution_count": null,
   "metadata": {},
   "outputs": [],
   "source": [
    "obs_90, sims_90 = group_topography(obs_c090, smrt_c090)"
   ]
  },
  {
   "cell_type": "code",
   "execution_count": null,
   "metadata": {},
   "outputs": [],
   "source": [
    "# Table in paper\n",
    "print ('channel', 'slopes', 'valley', 'plateau')\n",
    "for k in sims_90SS['plateau'].keys():\n",
    "    print(k, \n",
    "          np.round(np.median(sims_90SS['slopes'][k]) - np.median(sims_90['slopes'][k]),1), \n",
    "          np.round(np.median(sims_90SS['valley'][k]) - np.median(sims_90['valley'][k]),1), \n",
    "          np.round(np.median(sims_90SS['plateau'][k]) - np.median(sims_90['plateau'][k]),1))"
   ]
  },
  {
   "cell_type": "code",
   "execution_count": null,
   "metadata": {},
   "outputs": [],
   "source": []
  }
 ],
 "metadata": {
  "kernelspec": {
   "display_name": "aesop",
   "language": "python",
   "name": "aesop"
  },
  "language_info": {
   "codemirror_mode": {
    "name": "ipython",
    "version": 3
   },
   "file_extension": ".py",
   "mimetype": "text/x-python",
   "name": "python",
   "nbconvert_exporter": "python",
   "pygments_lexer": "ipython3",
   "version": "3.8.10"
  }
 },
 "nbformat": 4,
 "nbformat_minor": 4
}
